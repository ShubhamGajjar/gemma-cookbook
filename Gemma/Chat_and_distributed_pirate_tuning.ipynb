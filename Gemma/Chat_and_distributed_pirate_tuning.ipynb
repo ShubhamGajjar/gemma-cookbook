{
  "cells": [
    {
      "cell_type": "markdown",
      "metadata": {
        "id": "60KmTK7o6ppd"
      },
      "source": [
        "##### Copyright 2024 Google LLC."
      ]
    },
    {
      "cell_type": "code",
      "execution_count": null,
      "metadata": {
        "cellView": "form",
        "id": "GoAJlrr6LUyj"
      },
      "outputs": [],
      "source": [
        "# @title Licensed under the Apache License, Version 2.0 (the \"License\");\n",
        "# you may not use this file except in compliance with the License.\n",
        "# You may obtain a copy of the License at\n",
        "#\n",
        "# https://www.apache.org/licenses/LICENSE-2.0\n",
        "#\n",
        "# Unless required by applicable law or agreed to in writing, software\n",
        "# distributed under the License is distributed on an \"AS IS\" BASIS,\n",
        "# WITHOUT WARRANTIES OR CONDITIONS OF ANY KIND, either express or implied.\n",
        "# See the License for the specific language governing permissions and\n",
        "# limitations under the License."
      ]
    },
    {
      "cell_type": "markdown",
      "metadata": {
        "id": "xAd05sKCIoJL"
      },
      "source": [
        "# Gemma 7B - chat and distributed pirate-tuning\n",
        "\n",
        "This notebook demonstrates how you can chat with the Gemma 7B model and finetune it so that it generates responses in the tone of pirates.",
        "\n",
        "<table align=\"left\">\n",
        "  <td>\n",
        "    <a target=\"_blank\" href=\"https://colab.research.google.com/github/google-gemini/gemma-cookbook/blob/main/Gemma/Chat_and_distributed_pirate_tuning.ipynb\"><img src=\"https://www.tensorflow.org/images/colab_logo_32px.png\" />Run in Google Colab</a>\n",
        "  </td>\n",
        "</table>"
      ]
    },
    {
      "cell_type": "markdown",
      "metadata": {
        "id": "AO7a1Q4Yyc9Z"
      },
      "source": [
        "# Installation\n",
        "\n",
        "Install Keras and KerasNLP with the Gemma model."
      ]
    },
    {
      "cell_type": "code",
      "execution_count": null,
      "metadata": {
        "id": "WWEzVJR4Fx9g"
      },
      "outputs": [],
      "source": [
        "# Install Keras 3 last. See https://keras.io/getting_started/ for more details.\n",
        "!pip install -q -U tensorflow-cpu\n",
        "!pip install -q -U keras-nlp\n",
        "!pip install -q -U keras>=3\n",
        "!pip install -q -U arrr datasets\n",
        "!pip install -q -U matplotlib"
      ]
    },
    {
      "cell_type": "markdown",
      "metadata": {
        "id": "lbZsUvfhwL2D"
      },
      "source": [
        "**How to this run demo:**\n",
        "* On Kaggle, you can use a TPUv3-8 which have 8 cores with 16GB of memory each.\n",
        "* On GCP, you can [provision a TPUv3-8 backend for Colab](https://docs.google.com/document/d/13DjWGxqbqAyoEcJjtmenmaMya9lxTsFn0jJP-UUH1jc/edit?usp=sharing).\n",
        "* On GCP, you can [provision an multi-GPU 8xV100 backend for Colab](https://docs.google.com/document/d/1MNINJCk6vp0gCr4XqvmaTiwN8GKJH9_SFceXNvKjRw0/edit?usp=sharing).\n",
        "\n",
        "Check what accelerators are available:"
      ]
    },
    {
      "cell_type": "code",
      "execution_count": null,
      "metadata": {
        "id": "BK4MpHLKGujb"
      },
      "outputs": [
        {
          "data": {
            "text/plain": [
              "[TpuDevice(id=0, process_index=0, coords=(0,0,0), core_on_chip=0),\n",
              " TpuDevice(id=1, process_index=0, coords=(0,0,0), core_on_chip=1),\n",
              " TpuDevice(id=2, process_index=0, coords=(1,0,0), core_on_chip=0),\n",
              " TpuDevice(id=3, process_index=0, coords=(1,0,0), core_on_chip=1),\n",
              " TpuDevice(id=4, process_index=0, coords=(0,1,0), core_on_chip=0),\n",
              " TpuDevice(id=5, process_index=0, coords=(0,1,0), core_on_chip=1),\n",
              " TpuDevice(id=6, process_index=0, coords=(1,1,0), core_on_chip=0),\n",
              " TpuDevice(id=7, process_index=0, coords=(1,1,0), core_on_chip=1)]"
            ]
          },
          "execution_count": 1,
          "metadata": {},
          "output_type": "execute_result"
        }
      ],
      "source": [
        "import jax\n",
        "\n",
        "jax.devices()"
      ]
    },
    {
      "cell_type": "code",
      "execution_count": null,
      "metadata": {
        "id": "WEgg_OVIL2HY"
      },
      "outputs": [],
      "source": [
        "import os\n",
        "\n",
        "# The Keras 3 distribution API is only implemented for the JAX backend for now\n",
        "os.environ[\"KERAS_BACKEND\"] = \"jax\"\n",
        "# Pre-allocate 100% of TPU memory to minimize memory fragmentation\n",
        "os.environ[\"XLA_PYTHON_CLIENT_MEM_FRACTION\"] = \"1.0\"\n",
        "\n",
        "import keras\n",
        "import keras_nlp\n",
        "\n",
        "# for reproducibility\n",
        "keras.utils.set_random_seed(42)"
      ]
    },
    {
      "cell_type": "code",
      "execution_count": null,
      "metadata": {
        "id": "h5H7oE9MtnBA"
      },
      "outputs": [],
      "source": [
        "# Access to Gemma checkpoints on Kaggle\n",
        "\n",
        "# On Colab, set up you Kaggle credentials as Colab secrets and use this:\n",
        "\n",
        "# from google.colab import userdata\n",
        "# os.environ[\"KAGGLE_USERNAME\"] = userdata.get('KAGGLE_USERNAME')\n",
        "# os.environ[\"KAGGLE_KEY\"] = userdata.get('KAGGLE_KEY')\n",
        "\n",
        "# On Kaggle, set up you Kaggle credentials as Kaggle secrets and use this:\n",
        "\n",
        "# from kaggle_secrets import UserSecretsClient\n",
        "# secret_label = \"your-secret-label\"\n",
        "# os.environ[\"KAGGLE_USERNAME\"] = UserSecretsClient().get_secret(KAGGLE_USERNAME)\n",
        "# os.environ[\"KAGGLE_KEY\"] = UserSecretsClient().get_secret(KAGGLE_KEY)\n",
        "# On a GCP TPU/GPU VM, set the environment vars before running this notebook."
      ]
    },
    {
      "cell_type": "code",
      "execution_count": null,
      "metadata": {
        "id": "mzhbIuGotgda"
      },
      "outputs": [],
      "source": [
        "# formatting utility\n",
        "from IPython.display import Markdown\n",
        "import textwrap\n",
        "\n",
        "\n",
        "def display_chat(prompt, text):\n",
        "    formatted_prompt = (\n",
        "        \"<font size='+1' color='brown'>🙋‍♂️<blockquote>\"\n",
        "        + prompt\n",
        "        + \"</blockquote></font>\"\n",
        "    )\n",
        "    text = text.replace(\"•\", \"  *\")\n",
        "    text = textwrap.indent(text, \"> \", predicate=lambda _: True)\n",
        "    formatted_text = \"<font size='+1' color='teal'>🤖\\n\\n\" + text + \"\\n</font>\"\n",
        "    return Markdown(formatted_prompt + formatted_text)\n",
        "\n",
        "\n",
        "def to_markdown(text):\n",
        "    text = text.replace(\"•\", \"  *\")\n",
        "    return Markdown(textwrap.indent(text, \"> \", predicate=lambda _: True))"
      ]
    },
    {
      "cell_type": "markdown",
      "metadata": {
        "id": "wo1xkzr62hXN"
      },
      "source": [
        "# Load the 7B model, with model parallelism"
      ]
    },
    {
      "cell_type": "markdown",
      "metadata": {
        "id": "xrR8TpVS6uPs"
      },
      "source": [
        "The code below specifies how the weights of the model get partitioned across multiple accelerators.\n",
        "\n",
        "Detailed documentation in the new [Keras 3 distribution API guide](https://keras.io/guides/distribution/)."
      ]
    },
    {
      "cell_type": "code",
      "execution_count": null,
      "metadata": {
        "id": "8Wgh8h0qQCcu"
      },
      "outputs": [],
      "source": [
        "# Create a device mesh with shape (1, 8) to parition weights across all 8 TPUs cores.\n",
        "devices = keras.distribution.list_devices()\n",
        "device_mesh = keras.distribution.DeviceMesh((1, 8), [\"batch\", \"model\"], devices)\n",
        "\n",
        "# Create a LayoutMap to partition relevant weights\n",
        "layout_map = keras.distribution.LayoutMap(device_mesh)\n",
        "# Weights that match 'token_embedding/embeddings' will be sharded on 8 TPUs\n",
        "layout_map[\"token_embedding/embeddings\"] = (\"model\", None)\n",
        "# Regex to match against the query, key and value matrices in attention layers\n",
        "layout_map[\"decoder_block.*attention.*(query|key|value).kernel\"] = (\"model\", None, None)\n",
        "layout_map[\"decoder_block.*attention_output.kernel\"] = (\"model\", None, None)\n",
        "layout_map[\"decoder_block.*ffw_gating.kernel\"] = (None, \"model\")\n",
        "layout_map[\"decoder_block.*ffw_linear.kernel\"] = (\"model\", None)\n",
        "\n",
        "# Make ModelParallel laoading using the LayoutMap the default\n",
        "keras.distribution.set_distribution(\n",
        "    keras.distribution.ModelParallel(device_mesh, layout_map, batch_dim_name=\"batch\")\n",
        ")"
      ]
    },
    {
      "cell_type": "markdown",
      "metadata": {
        "id": "dTULEQ29qidE"
      },
      "source": [
        " Load the model"
      ]
    },
    {
      "cell_type": "code",
      "execution_count": null,
      "metadata": {
        "id": "bu48vUnbQj0p"
      },
      "outputs": [
        {
          "name": "stderr",
          "output_type": "stream",
          "text": [
            "Downloading from https://www.kaggle.com/api/v1/models/keras/gemma/keras/gemma_1.1_instruct_7b_en/3/download/task.json...\n",
            "Downloading from https://www.kaggle.com/api/v1/models/keras/gemma/keras/gemma_1.1_instruct_7b_en/3/download/preprocessor.json...\n",
            "normalizer.cc(51) LOG(INFO) precompiled_charsmap is empty. use identity normalization.\n"
          ]
        }
      ],
      "source": [
        "gemma_lm = keras_nlp.models.GemmaCausalLM.from_preset(\"gemma_1.1_instruct_7b_en\")\n",
        "gemma_lm.compile(sampler=keras_nlp.samplers.GreedySampler())  # this is the default"
      ]
    },
    {
      "cell_type": "markdown",
      "metadata": {
        "id": "ORCOIawAvpZ1"
      },
      "source": [
        "Verify that the model has been partitioned correctly. Let's take `decoder_block_1` as an example."
      ]
    },
    {
      "cell_type": "code",
      "execution_count": null,
      "metadata": {
        "id": "DqT7TRHKvoMK"
      },
      "outputs": [
        {
          "name": "stdout",
          "output_type": "stream",
          "text": [
            "<class 'keras_nlp.src.models.gemma.gemma_decoder_block.GemmaDecoderBlock'>\n",
            "decoder_block_1/pre_attention_norm/scale                    (3072,)           PartitionSpec(None,)\n",
            "decoder_block_1/attention/query/kernel                      (16, 3072, 256)   PartitionSpec('model', None, None)\n",
            "decoder_block_1/attention/key/kernel                        (16, 3072, 256)   PartitionSpec('model', None, None)\n",
            "decoder_block_1/attention/value/kernel                      (16, 3072, 256)   PartitionSpec('model', None, None)\n",
            "decoder_block_1/attention/attention_output/kernel           (16, 256, 3072)   PartitionSpec('model', None, None)\n",
            "decoder_block_1/pre_ffw_norm/scale                          (3072,)           PartitionSpec(None,)\n",
            "decoder_block_1/ffw_gating/kernel                           (3072, 24576)     PartitionSpec(None, 'model')\n",
            "decoder_block_1/ffw_gating_2/kernel                         (3072, 24576)     PartitionSpec(None, None)\n",
            "decoder_block_1/ffw_linear/kernel                           (24576, 3072)     PartitionSpec('model', None)\n"
          ]
        }
      ],
      "source": [
        "decoder_block_1 = gemma_lm.backbone.get_layer(\"decoder_block_1\")\n",
        "print(type(decoder_block_1))\n",
        "for variable in decoder_block_1.weights:\n",
        "    print(\n",
        "        f\"{variable.path:<58}  {str(variable.shape):<16}  {str(variable.value.sharding.spec)}\"\n",
        "    )"
      ]
    },
    {
      "cell_type": "markdown",
      "metadata": {
        "id": "jc0ZzYIW0TSN"
      },
      "source": [
        "# Let's chat\n",
        "\n",
        "We loaded the instruction-tuned model gemma_instruct_7b_en, which understands the following turn tokens:\n",
        "```\n",
        "<start_of_turn>user\\n  ... <end_of_turn>\\n\n",
        "<start_of_turn>model\\n ... <end_of_turn>\\n\n",
        "```"
      ]
    },
    {
      "cell_type": "markdown",
      "metadata": {
        "id": "1CPDXJ-z-Ydv"
      },
      "source": [
        "### Chat helper (to manage discussion state)"
      ]
    },
    {
      "cell_type": "code",
      "execution_count": null,
      "metadata": {
        "id": "N0koS7C_MgQ-"
      },
      "outputs": [],
      "source": [
        "class ChatState:\n",
        "\n",
        "    __START_TURN_USER__ = \"<start_of_turn>user\\n\"\n",
        "    __START_TURN_MODEL__ = \"<start_of_turn>model\\n\"\n",
        "    __END_TURN__ = \"<end_of_turn>\\n\"\n",
        "\n",
        "    def __init__(self, model, system=\"\"):\n",
        "        self.model = model\n",
        "        self.system = system\n",
        "        self.history = []\n",
        "\n",
        "    def add_to_history_as_user(self, message):\n",
        "        self.history.append(self.__START_TURN_USER__ + message + self.__END_TURN__)\n",
        "\n",
        "    def add_to_history_as_model(self, message):\n",
        "        self.history.append(self.__START_TURN_MODEL__ + message + self.__END_TURN__)\n",
        "\n",
        "    def get_history(self):\n",
        "        return \"\".join([*self.history])\n",
        "\n",
        "    def get_full_prompt(self):\n",
        "        prompt = self.get_history() + self.__START_TURN_MODEL__\n",
        "        if len(self.system) > 0:\n",
        "            prompt = self.system + \"\\n\" + prompt\n",
        "        return prompt\n",
        "\n",
        "    def send_message(self, message):\n",
        "        self.add_to_history_as_user(message)\n",
        "        prompt = self.get_full_prompt()\n",
        "        response = self.model.generate(prompt, max_length=1024)\n",
        "        result = response.replace(prompt, \"\")\n",
        "        self.add_to_history_as_model(result)\n",
        "        return result"
      ]
    },
    {
      "cell_type": "code",
      "execution_count": null,
      "metadata": {
        "id": "eI1p0iZMh3ef"
      },
      "outputs": [
        {
          "data": {
            "text/markdown": "<font size='+1' color='brown'>🙋‍♂️<blockquote>Tell me, in a few words,  how to compute all prime numbers up to 1000?</blockquote></font><font size='+1' color='teal'>🤖\n\n> Use the Sieve of Eratosthenes algorithm.\n</font>",
            "text/plain": [
              "<IPython.core.display.Markdown object>"
            ]
          },
          "execution_count": 9,
          "metadata": {},
          "output_type": "execute_result"
        }
      ],
      "source": [
        "chat = ChatState(gemma_lm)\n",
        "message = \"Tell me, in a few words,  how to compute all prime numbers up to 1000?\"\n",
        "display_chat(message, chat.send_message(message))"
      ]
    },
    {
      "cell_type": "code",
      "execution_count": null,
      "metadata": {
        "id": "0drcbj-66wCA"
      },
      "outputs": [
        {
          "data": {
            "text/markdown": "<font size='+1' color='brown'>🙋‍♂️<blockquote>Now in Python. And don't forget to print the result.</blockquote></font><font size='+1' color='teal'>🤖\n\n> ```python\n> def sieve(n):\n>     is_prime = [True] * (n+1)\n>     is_prime[0] = is_prime[1] = False\n>     for i in range(2, int(n**0.5) + 1):\n>         if is_prime[i]:\n>             for j in range(i*i, n+1, i):\n>                 is_prime[j] = False\n>     primes = [i for i, is_prime in enumerate(is_prime) if is_prime]\n>     return primes\n> \n> primes = sieve(1000)\n> print(primes)\n> ```\n</font>",
            "text/plain": [
              "<IPython.core.display.Markdown object>"
            ]
          },
          "execution_count": 10,
          "metadata": {},
          "output_type": "execute_result"
        }
      ],
      "source": [
        "message = \"Now in Python. And don't forget to print the result.\"\n",
        "display_chat(message, chat.send_message(message))"
      ]
    },
    {
      "cell_type": "code",
      "execution_count": null,
      "metadata": {
        "id": "mtr5ZEJMHp-l"
      },
      "outputs": [
        {
          "name": "stdout",
          "output_type": "stream",
          "text": [
            "[2, 3, 5, 7, 11, 13, 17, 19, 23, 29, 31, 37, 41, 43, 47, 53, 59, 61, 67, 71, 73, 79, 83, 89, 97, 101, 103, 107, 109, 113, 127, 131, 137, 139, 149, 151, 157, 163, 167, 173, 179, 181, 191, 193, 197, 199, 211, 223, 227, 229, 233, 239, 241, 251, 257, 263, 269, 271, 277, 281, 283, 293, 307, 311, 313, 317, 331, 337, 347, 349, 353, 359, 367, 373, 379, 383, 389, 397, 401, 409, 419, 421, 431, 433, 439, 443, 449, 457, 461, 463, 467, 479, 487, 491, 499, 503, 509, 521, 523, 541, 547, 557, 563, 569, 571, 577, 587, 593, 599, 601, 607, 613, 617, 619, 631, 641, 643, 647, 653, 659, 661, 673, 677, 683, 691, 701, 709, 719, 727, 733, 739, 743, 751, 757, 761, 769, 773, 787, 797, 809, 811, 821, 823, 827, 829, 839, 853, 857, 859, 863, 877, 881, 883, 887, 907, 911, 919, 929, 937, 941, 947, 953, 967, 971, 977, 983, 991, 997]\n"
          ]
        }
      ],
      "source": [
        "def sieve(n):\n",
        "    is_prime = [True] * (n + 1)\n",
        "    is_prime[0] = is_prime[1] = False\n",
        "    for i in range(2, int(n**0.5) + 1):\n",
        "        if is_prime[i]:\n",
        "            for j in range(i * i, n + 1, i):\n",
        "                is_prime[j] = False\n",
        "    primes = [i for i, is_prime in enumerate(is_prime) if is_prime]\n",
        "    return primes\n",
        "\n",
        "\n",
        "primes = sieve(1000)\n",
        "print(primes)"
      ]
    },
    {
      "cell_type": "code",
      "execution_count": null,
      "metadata": {
        "id": "KMHW4chPjk8E"
      },
      "outputs": [
        {
          "data": {
            "text/markdown": "<font size='+1' color='brown'>🙋‍♂️<blockquote>Thank you, it works! Can you explain the code in plain English?</blockquote></font><font size='+1' color='teal'>🤖\n\n> **Step 1: Initialization**\n> \n> - We create a list of 1001 boolean values (True/False), where each index represents a number from 0 to 1000.\n> - We set the first two values to False because 0 and 1 are not prime numbers.\n> \n> **Step 2: Iterating over numbers**\n> \n> - We loop through numbers from 2 to the square root of 1000.\n> - For each prime number we encounter, we mark all its multiples as non-prime.\n> \n> **Step 3: Identifying primes**\n> \n> - After the loop, we iterate over the list and collect the indices of values that are still True, which indicates they are prime numbers.\n> \n> **Step 4: Outputting results**\n> \n> - Finally, we print the list of prime numbers identified.\n> \n> **How it works:**\n> \n> - The Sieve of Eratosthenes is an efficient algorithm for finding prime numbers.\n> - By marking multiples of prime numbers as non-prime, it reduces the number of candidates we need to check.\n> - The loop stops at the square root of 1000 because any number greater than the square root would have already been marked as a multiple of a smaller prime.\n> \n> **Output:**\n> \n> The code will output a list of all prime numbers up to 1000, like this:\n> \n> ```\n> [2, 3, 5, 7, 11, 13, 17, 19, 23, 29, ... ]\n> ```\n</font>",
            "text/plain": [
              "<IPython.core.display.Markdown object>"
            ]
          },
          "execution_count": 12,
          "metadata": {},
          "output_type": "execute_result"
        }
      ],
      "source": [
        "message = \"Thank you, it works! Can you explain the code in plain English?\"\n",
        "display_chat(message, chat.send_message(message))"
      ]
    },
    {
      "cell_type": "code",
      "execution_count": null,
      "metadata": {
        "id": "2G39JfiQidlc"
      },
      "outputs": [
        {
          "data": {
            "text/markdown": "<font size='+1' color='brown'>🙋‍♂️<blockquote>Great! Now add those explanations as comments in the code, line by line.</blockquote></font><font size='+1' color='teal'>🤖\n\n> ```python\n> # This function implements the Sieve of Eratosthenes algorithm.\n> def sieve(n):\n>     # Create a list of boolean values, where each index represents a number from 0 to n.\n>     is_prime = [True] * (n+1)\n>     \n>     # Set the first two values to False because 0 and 1 are not prime numbers.\n>     is_prime[0] = is_prime[1] = False\n>     \n>     # Iterate over numbers from 2 to the square root of n.\n>     for i in range(2, int(n**0.5) + 1):\n>         # If the current number is prime, mark all its multiples as non-prime.\n>         if is_prime[i]:\n>             for j in range(i*i, n+1, i):\n>                 is_prime[j] = False\n>     \n>     # Identify prime numbers by iterating over the list and collecting indices of values that are still True.\n>     primes = [i for i, is_prime in enumerate(is_prime) if is_prime]\n>     \n>     # Return the list of prime numbers.\n>     return primes\n> \n> # Get prime numbers up to 1000.\n> primes = sieve(1000)\n> \n> # Print the results.\n> print(primes)\n> ```\n</font>",
            "text/plain": [
              "<IPython.core.display.Markdown object>"
            ]
          },
          "execution_count": 13,
          "metadata": {},
          "output_type": "execute_result"
        }
      ],
      "source": [
        "message = \"Great! Now add those explanations as comments in the code, line by line.\"\n",
        "display_chat(message, chat.send_message(message))"
      ]
    },
    {
      "cell_type": "markdown",
      "metadata": {
        "id": "UaBq9PoXvcgF"
      },
      "source": [
        "Copy-pasted code from Gemma's answer:"
      ]
    },
    {
      "cell_type": "code",
      "execution_count": null,
      "metadata": {
        "id": "7hm8EO64Hsgq"
      },
      "outputs": [
        {
          "name": "stdout",
          "output_type": "stream",
          "text": [
            "[2, 3, 5, 7, 11, 13, 17, 19, 23, 29, 31, 37, 41, 43, 47, 53, 59, 61, 67, 71, 73, 79, 83, 89, 97, 101, 103, 107, 109, 113, 127, 131, 137, 139, 149, 151, 157, 163, 167, 173, 179, 181, 191, 193, 197, 199, 211, 223, 227, 229, 233, 239, 241, 251, 257, 263, 269, 271, 277, 281, 283, 293, 307, 311, 313, 317, 331, 337, 347, 349, 353, 359, 367, 373, 379, 383, 389, 397, 401, 409, 419, 421, 431, 433, 439, 443, 449, 457, 461, 463, 467, 479, 487, 491, 499, 503, 509, 521, 523, 541, 547, 557, 563, 569, 571, 577, 587, 593, 599, 601, 607, 613, 617, 619, 631, 641, 643, 647, 653, 659, 661, 673, 677, 683, 691, 701, 709, 719, 727, 733, 739, 743, 751, 757, 761, 769, 773, 787, 797, 809, 811, 821, 823, 827, 829, 839, 853, 857, 859, 863, 877, 881, 883, 887, 907, 911, 919, 929, 937, 941, 947, 953, 967, 971, 977, 983, 991, 997]\n"
          ]
        }
      ],
      "source": [
        "# This function implements the Sieve of Eratosthenes algorithm.\n",
        "def sieve(n):\n",
        "    # Create a list of boolean values, where each index represents a number from 0 to n.\n",
        "    is_prime = [True] * (n + 1)\n",
        "\n",
        "    # Set the first two values to False because 0 and 1 are not prime numbers.\n",
        "    is_prime[0] = is_prime[1] = False\n",
        "\n",
        "    # Iterate over numbers from 2 to the square root of n.\n",
        "    for i in range(2, int(n**0.5) + 1):\n",
        "        # If the current number is prime, mark all its multiples as non-prime.\n",
        "        if is_prime[i]:\n",
        "            for j in range(i * i, n + 1, i):\n",
        "                is_prime[j] = False\n",
        "\n",
        "    # Identify prime numbers by iterating over the list and collecting indices of values that are still True.\n",
        "    primes = [i for i, is_prime in enumerate(is_prime) if is_prime]\n",
        "\n",
        "    # Return the list of prime numbers.\n",
        "    return primes\n",
        "\n",
        "\n",
        "# Get prime numbers up to 1000.\n",
        "primes = sieve(1000)\n",
        "\n",
        "# Print the results.\n",
        "print(primes)"
      ]
    },
    {
      "cell_type": "markdown",
      "metadata": {
        "id": "IcPCXCwvXC7t"
      },
      "source": [
        "# Finetune to speak like a pirate"
      ]
    },
    {
      "cell_type": "markdown",
      "metadata": {
        "id": "xiLW0SpI1PfC"
      },
      "source": [
        "## Enable LoRA\n",
        "\n",
        "Perform finetuning using [Low Rank Adaptation](https://arxiv.org/abs/2106.09685) (LoRA). LoRA is a fine-tuning technique which greatly reduces the number of trainable parameters for downstream tasks by freezing the full weights of the model and inserting a smaller number of new trainable weights into the model. Basically LoRA reparameterizes the larger full weight matrices by 2 smaller low-rank matrices AxB to train and this technique makes training much faster and more memory-efficient."
      ]
    },
    {
      "cell_type": "code",
      "execution_count": null,
      "metadata": {
        "id": "3o_Gi3v_jp7s"
      },
      "outputs": [],
      "source": [
        "# Enable LoRA for the model and set the LoRA rank to 8.\n",
        "gemma_lm.backbone.enable_lora(rank=8)"
      ]
    },
    {
      "cell_type": "code",
      "execution_count": null,
      "metadata": {
        "id": "yAdaFfI4izR9"
      },
      "outputs": [],
      "source": [
        "# The model still works normally\n",
        "gemma_lm.generate(\"Hello\", max_length=1024)"
      ]
    },
    {
      "cell_type": "markdown",
      "metadata": {
        "id": "Wpxw7PNt-_Nx"
      },
      "source": [
        "## Pirate dataset\n",
        "\n",
        "Text dataset piratified using the arrr Python package :-)"
      ]
    },
    {
      "cell_type": "code",
      "execution_count": null,
      "metadata": {
        "id": "Gv3mqm307YJ4"
      },
      "outputs": [
        {
          "name": "stdout",
          "output_type": "stream",
          "text": [
            "Virgin australia commenced services on 31 august 2000 as virgin blue, with two aircraft on a single route. Arrr!\n",
            "Tope\n",
            "Camels use th' fat in their humps to keep them filled with energy and hydration for long periods of time.\n",
            "Th' name of th' third daughter be alice\n",
            "Tomoaki komorida was born on july 10,1981.\n",
            "No. Stalemate be a drawn position. It doesn't matter who has captured more pieces or be in a winning position\n"
          ]
        },
        {
          "name": "stderr",
          "output_type": "stream",
          "text": [
            "2024-04-08 23:06:33.102440: W tensorflow/core/framework/local_rendezvous.cc:404] Local rendezvous is aborting with status: OUT_OF_RANGE: End of sequence\n"
          ]
        }
      ],
      "source": [
        "from datasets import load_dataset\n",
        "\n",
        "ds = load_dataset(\n",
        "    \"databricks/databricks-dolly-15k\",\n",
        "    split=\"train\",\n",
        ")\n",
        "eng = ds.with_format(\"np\", columns=\"response\", output_all_columns=False)\n",
        "eng = eng[:2048]  # Use a subset of the dataset for faster training\n",
        "\n",
        "pirate = []\n",
        "\n",
        "# Use Arrr.py to translate response into pirate speak\n",
        "from arrr import translate\n",
        "\n",
        "for x in eng[\"response\"]:\n",
        "    pirate.append(translate(x))\n",
        "\n",
        "import tensorflow as tf  # for tf.data\n",
        "\n",
        "ds = tf.data.Dataset.from_tensor_slices(pirate)\n",
        "ds = ds.batch(2, drop_remainder=True)\n",
        "\n",
        "for batch in ds.take(3):\n",
        "    for text in batch:\n",
        "        print(text.numpy().decode(\"utf-8\"))"
      ]
    },
    {
      "cell_type": "markdown",
      "metadata": {
        "id": "5mlNw2S5AFqU"
      },
      "source": [
        "## Pirate-tune!"
      ]
    },
    {
      "cell_type": "code",
      "execution_count": null,
      "metadata": {
        "id": "1-hQFy7hXWRl"
      },
      "outputs": [
        {
          "data": {
            "text/html": [
              "<pre style=\"white-space:pre;overflow-x:auto;line-height:normal;font-family:Menlo,'DejaVu Sans Mono',consolas,'Courier New',monospace\"><span style=\"font-weight: bold\">Preprocessor: \"gemma_causal_lm_preprocessor\"</span>\n",
              "</pre>\n"
            ],
            "text/plain": [
              "\u001b[1mPreprocessor: \"gemma_causal_lm_preprocessor\"\u001b[0m\n"
            ]
          },
          "metadata": {},
          "output_type": "display_data"
        },
        {
          "data": {
            "text/html": [
              "<pre style=\"white-space:pre;overflow-x:auto;line-height:normal;font-family:Menlo,'DejaVu Sans Mono',consolas,'Courier New',monospace\">┏━━━━━━━━━━━━━━━━━━━━━━━━━━━━━━━━━━━━━━━━━━━━━━━━━━━━┳━━━━━━━━━━━━━━━━━━━━━━━━━━━━━━━━━━━━━━━━━━━━━━━━━━━━━┓\n",
              "┃<span style=\"font-weight: bold\"> Tokenizer (type)                                   </span>┃<span style=\"font-weight: bold\">                                             Vocab # </span>┃\n",
              "┡━━━━━━━━━━━━━━━━━━━━━━━━━━━━━━━━━━━━━━━━━━━━━━━━━━━━╇━━━━━━━━━━━━━━━━━━━━━━━━━━━━━━━━━━━━━━━━━━━━━━━━━━━━━┩\n",
              "│ gemma_tokenizer (<span style=\"color: #0087ff; text-decoration-color: #0087ff\">GemmaTokenizer</span>)                   │                                             <span style=\"color: #00af00; text-decoration-color: #00af00\">256,000</span> │\n",
              "└────────────────────────────────────────────────────┴─────────────────────────────────────────────────────┘\n",
              "</pre>\n"
            ],
            "text/plain": [
              "┏━━━━━━━━━━━━━━━━━━━━━━━━━━━━━━━━━━━━━━━━━━━━━━━━━━━━┳━━━━━━━━━━━━━━━━━━━━━━━━━━━━━━━━━━━━━━━━━━━━━━━━━━━━━┓\n",
              "┃\u001b[1m \u001b[0m\u001b[1mTokenizer (type)                                  \u001b[0m\u001b[1m \u001b[0m┃\u001b[1m \u001b[0m\u001b[1m                                            Vocab #\u001b[0m\u001b[1m \u001b[0m┃\n",
              "┡━━━━━━━━━━━━━━━━━━━━━━━━━━━━━━━━━━━━━━━━━━━━━━━━━━━━╇━━━━━━━━━━━━━━━━━━━━━━━━━━━━━━━━━━━━━━━━━━━━━━━━━━━━━┩\n",
              "│ gemma_tokenizer (\u001b[38;5;33mGemmaTokenizer\u001b[0m)                   │                                             \u001b[38;5;34m256,000\u001b[0m │\n",
              "└────────────────────────────────────────────────────┴─────────────────────────────────────────────────────┘\n"
            ]
          },
          "metadata": {},
          "output_type": "display_data"
        },
        {
          "data": {
            "text/html": [
              "<pre style=\"white-space:pre;overflow-x:auto;line-height:normal;font-family:Menlo,'DejaVu Sans Mono',consolas,'Courier New',monospace\"><span style=\"font-weight: bold\">Model: \"gemma_causal_lm\"</span>\n",
              "</pre>\n"
            ],
            "text/plain": [
              "\u001b[1mModel: \"gemma_causal_lm\"\u001b[0m\n"
            ]
          },
          "metadata": {},
          "output_type": "display_data"
        },
        {
          "data": {
            "text/html": [
              "<pre style=\"white-space:pre;overflow-x:auto;line-height:normal;font-family:Menlo,'DejaVu Sans Mono',consolas,'Courier New',monospace\">┏━━━━━━━━━━━━━━━━━━━━━━━━━━━━━━━┳━━━━━━━━━━━━━━━━━━━━━━━━━━━┳━━━━━━━━━━━━━━━━━┳━━━━━━━━━━━━━━━━━━━━━━━━━━━━┓\n",
              "┃<span style=\"font-weight: bold\"> Layer (type)                  </span>┃<span style=\"font-weight: bold\"> Output Shape              </span>┃<span style=\"font-weight: bold\">         Param # </span>┃<span style=\"font-weight: bold\"> Connected to               </span>┃\n",
              "┡━━━━━━━━━━━━━━━━━━━━━━━━━━━━━━━╇━━━━━━━━━━━━━━━━━━━━━━━━━━━╇━━━━━━━━━━━━━━━━━╇━━━━━━━━━━━━━━━━━━━━━━━━━━━━┩\n",
              "│ padding_mask (<span style=\"color: #0087ff; text-decoration-color: #0087ff\">InputLayer</span>)     │ (<span style=\"color: #00d7ff; text-decoration-color: #00d7ff\">None</span>, <span style=\"color: #00d7ff; text-decoration-color: #00d7ff\">None</span>)              │               <span style=\"color: #00af00; text-decoration-color: #00af00\">0</span> │ -                          │\n",
              "├───────────────────────────────┼───────────────────────────┼─────────────────┼────────────────────────────┤\n",
              "│ token_ids (<span style=\"color: #0087ff; text-decoration-color: #0087ff\">InputLayer</span>)        │ (<span style=\"color: #00d7ff; text-decoration-color: #00d7ff\">None</span>, <span style=\"color: #00d7ff; text-decoration-color: #00d7ff\">None</span>)              │               <span style=\"color: #00af00; text-decoration-color: #00af00\">0</span> │ -                          │\n",
              "├───────────────────────────────┼───────────────────────────┼─────────────────┼────────────────────────────┤\n",
              "│ gemma_backbone                │ (<span style=\"color: #00d7ff; text-decoration-color: #00d7ff\">None</span>, <span style=\"color: #00d7ff; text-decoration-color: #00d7ff\">None</span>, <span style=\"color: #00af00; text-decoration-color: #00af00\">3072</span>)        │   <span style=\"color: #00af00; text-decoration-color: #00af00\">8,559,815,680</span> │ padding_mask[<span style=\"color: #00af00; text-decoration-color: #00af00\">0</span>][<span style=\"color: #00af00; text-decoration-color: #00af00\">0</span>],        │\n",
              "│ (<span style=\"color: #0087ff; text-decoration-color: #0087ff\">GemmaBackbone</span>)               │                           │                 │ token_ids[<span style=\"color: #00af00; text-decoration-color: #00af00\">0</span>][<span style=\"color: #00af00; text-decoration-color: #00af00\">0</span>]            │\n",
              "├───────────────────────────────┼───────────────────────────┼─────────────────┼────────────────────────────┤\n",
              "│ token_embedding               │ (<span style=\"color: #00d7ff; text-decoration-color: #00d7ff\">None</span>, <span style=\"color: #00d7ff; text-decoration-color: #00d7ff\">None</span>, <span style=\"color: #00af00; text-decoration-color: #00af00\">256000</span>)      │     <span style=\"color: #00af00; text-decoration-color: #00af00\">786,432,000</span> │ gemma_backbone[<span style=\"color: #00af00; text-decoration-color: #00af00\">0</span>][<span style=\"color: #00af00; text-decoration-color: #00af00\">0</span>]       │\n",
              "│ (<span style=\"color: #0087ff; text-decoration-color: #0087ff\">ReversibleEmbedding</span>)         │                           │                 │                            │\n",
              "└───────────────────────────────┴───────────────────────────┴─────────────────┴────────────────────────────┘\n",
              "</pre>\n"
            ],
            "text/plain": [
              "┏━━━━━━━━━━━━━━━━━━━━━━━━━━━━━━━┳━━━━━━━━━━━━━━━━━━━━━━━━━━━┳━━━━━━━━━━━━━━━━━┳━━━━━━━━━━━━━━━━━━━━━━━━━━━━┓\n",
              "┃\u001b[1m \u001b[0m\u001b[1mLayer (type)                 \u001b[0m\u001b[1m \u001b[0m┃\u001b[1m \u001b[0m\u001b[1mOutput Shape             \u001b[0m\u001b[1m \u001b[0m┃\u001b[1m \u001b[0m\u001b[1m        Param #\u001b[0m\u001b[1m \u001b[0m┃\u001b[1m \u001b[0m\u001b[1mConnected to              \u001b[0m\u001b[1m \u001b[0m┃\n",
              "┡━━━━━━━━━━━━━━━━━━━━━━━━━━━━━━━╇━━━━━━━━━━━━━━━━━━━━━━━━━━━╇━━━━━━━━━━━━━━━━━╇━━━━━━━━━━━━━━━━━━━━━━━━━━━━┩\n",
              "│ padding_mask (\u001b[38;5;33mInputLayer\u001b[0m)     │ (\u001b[38;5;45mNone\u001b[0m, \u001b[38;5;45mNone\u001b[0m)              │               \u001b[38;5;34m0\u001b[0m │ -                          │\n",
              "├───────────────────────────────┼───────────────────────────┼─────────────────┼────────────────────────────┤\n",
              "│ token_ids (\u001b[38;5;33mInputLayer\u001b[0m)        │ (\u001b[38;5;45mNone\u001b[0m, \u001b[38;5;45mNone\u001b[0m)              │               \u001b[38;5;34m0\u001b[0m │ -                          │\n",
              "├───────────────────────────────┼───────────────────────────┼─────────────────┼────────────────────────────┤\n",
              "│ gemma_backbone                │ (\u001b[38;5;45mNone\u001b[0m, \u001b[38;5;45mNone\u001b[0m, \u001b[38;5;34m3072\u001b[0m)        │   \u001b[38;5;34m8,559,815,680\u001b[0m │ padding_mask[\u001b[38;5;34m0\u001b[0m][\u001b[38;5;34m0\u001b[0m],        │\n",
              "│ (\u001b[38;5;33mGemmaBackbone\u001b[0m)               │                           │                 │ token_ids[\u001b[38;5;34m0\u001b[0m][\u001b[38;5;34m0\u001b[0m]            │\n",
              "├───────────────────────────────┼───────────────────────────┼─────────────────┼────────────────────────────┤\n",
              "│ token_embedding               │ (\u001b[38;5;45mNone\u001b[0m, \u001b[38;5;45mNone\u001b[0m, \u001b[38;5;34m256000\u001b[0m)      │     \u001b[38;5;34m786,432,000\u001b[0m │ gemma_backbone[\u001b[38;5;34m0\u001b[0m][\u001b[38;5;34m0\u001b[0m]       │\n",
              "│ (\u001b[38;5;33mReversibleEmbedding\u001b[0m)         │                           │                 │                            │\n",
              "└───────────────────────────────┴───────────────────────────┴─────────────────┴────────────────────────────┘\n"
            ]
          },
          "metadata": {},
          "output_type": "display_data"
        },
        {
          "data": {
            "text/html": [
              "<pre style=\"white-space:pre;overflow-x:auto;line-height:normal;font-family:Menlo,'DejaVu Sans Mono',consolas,'Courier New',monospace\"><span style=\"font-weight: bold\"> Total params: </span><span style=\"color: #00af00; text-decoration-color: #00af00\">8,559,815,680</span> (31.89 GB)\n",
              "</pre>\n"
            ],
            "text/plain": [
              "\u001b[1m Total params: \u001b[0m\u001b[38;5;34m8,559,815,680\u001b[0m (31.89 GB)\n"
            ]
          },
          "metadata": {},
          "output_type": "display_data"
        },
        {
          "data": {
            "text/html": [
              "<pre style=\"white-space:pre;overflow-x:auto;line-height:normal;font-family:Menlo,'DejaVu Sans Mono',consolas,'Courier New',monospace\"><span style=\"font-weight: bold\"> Trainable params: </span><span style=\"color: #00af00; text-decoration-color: #00af00\">22,134,784</span> (84.44 MB)\n",
              "</pre>\n"
            ],
            "text/plain": [
              "\u001b[1m Trainable params: \u001b[0m\u001b[38;5;34m22,134,784\u001b[0m (84.44 MB)\n"
            ]
          },
          "metadata": {},
          "output_type": "display_data"
        },
        {
          "data": {
            "text/html": [
              "<pre style=\"white-space:pre;overflow-x:auto;line-height:normal;font-family:Menlo,'DejaVu Sans Mono',consolas,'Courier New',monospace\"><span style=\"font-weight: bold\"> Non-trainable params: </span><span style=\"color: #00af00; text-decoration-color: #00af00\">8,537,680,896</span> (31.81 GB)\n",
              "</pre>\n"
            ],
            "text/plain": [
              "\u001b[1m Non-trainable params: \u001b[0m\u001b[38;5;34m8,537,680,896\u001b[0m (31.81 GB)\n"
            ]
          },
          "metadata": {},
          "output_type": "display_data"
        },
        {
          "name": "stdout",
          "output_type": "stream",
          "text": [
            "Epoch 1/8\n",
            "\u001b[1m1024/1024\u001b[0m \u001b[32m━━━━━━━━━━━━━━━━━━━━\u001b[0m\u001b[37m\u001b[0m \u001b[1m0s\u001b[0m 109ms/step - loss: 1.6315 - sparse_categorical_accuracy: 0.4726"
          ]
        },
        {
          "name": "stderr",
          "output_type": "stream",
          "text": [
            "2024-04-08 16:07:22.208332: W tensorflow/core/framework/local_rendezvous.cc:404] Local rendezvous is aborting with status: OUT_OF_RANGE: End of sequence\n"
          ]
        },
        {
          "name": "stdout",
          "output_type": "stream",
          "text": [
            "\b\b\b\b\b\b\b\b\b\b\b\b\b\b\b\b\b\b\b\b\b\b\b\b\b\b\b\b\b\b\b\b\b\b\b\b\b\b\b\b\b\b\b\b\b\b\b\b\b\b\b\b\b\b\b\b\b\b\b\b\b\b\b\b\b\b\b\b\b\b\b\b\b\b\b\b\b\b\b\b\b\b\b\b\b\b\b\b\b\b\b\b\b\b\b\b\b\r\u001b[1m1024/1024\u001b[0m \u001b[32m━━━━━━━━━━━━━━━━━━━━\u001b[0m\u001b[37m\u001b[0m \u001b[1m157s\u001b[0m 109ms/step - loss: 1.6309 - sparse_categorical_accuracy: 0.4726\n",
            "Epoch 2/8\n",
            "\u001b[1m1024/1024\u001b[0m \u001b[32m━━━━━━━━━━━━━━━━━━━━\u001b[0m\u001b[37m\u001b[0m \u001b[1m105s\u001b[0m 103ms/step - loss: 0.6997 - sparse_categorical_accuracy: 0.5312\n",
            "Epoch 3/8\n"
          ]
        },
        {
          "name": "stderr",
          "output_type": "stream",
          "text": [
            "2024-04-08 16:09:07.695223: W tensorflow/core/framework/local_rendezvous.cc:404] Local rendezvous is aborting with status: OUT_OF_RANGE: End of sequence\n"
          ]
        },
        {
          "name": "stdout",
          "output_type": "stream",
          "text": [
            "\u001b[1m1024/1024\u001b[0m \u001b[32m━━━━━━━━━━━━━━━━━━━━\u001b[0m\u001b[37m\u001b[0m \u001b[1m105s\u001b[0m 103ms/step - loss: 0.6243 - sparse_categorical_accuracy: 0.5671\n",
            "Epoch 4/8\n"
          ]
        },
        {
          "name": "stderr",
          "output_type": "stream",
          "text": [
            "2024-04-08 16:10:52.996947: W tensorflow/core/framework/local_rendezvous.cc:404] Local rendezvous is aborting with status: OUT_OF_RANGE: End of sequence\n"
          ]
        },
        {
          "name": "stdout",
          "output_type": "stream",
          "text": [
            "\u001b[1m1024/1024\u001b[0m \u001b[32m━━━━━━━━━━━━━━━━━━━━\u001b[0m\u001b[37m\u001b[0m \u001b[1m105s\u001b[0m 103ms/step - loss: 0.5289 - sparse_categorical_accuracy: 0.6214\n",
            "Epoch 5/8\n"
          ]
        },
        {
          "name": "stderr",
          "output_type": "stream",
          "text": [
            "2024-04-08 16:12:38.196787: W tensorflow/core/framework/local_rendezvous.cc:404] Local rendezvous is aborting with status: OUT_OF_RANGE: End of sequence\n"
          ]
        },
        {
          "name": "stdout",
          "output_type": "stream",
          "text": [
            "\u001b[1m1024/1024\u001b[0m \u001b[32m━━━━━━━━━━━━━━━━━━━━\u001b[0m\u001b[37m\u001b[0m \u001b[1m105s\u001b[0m 103ms/step - loss: 0.4240 - sparse_categorical_accuracy: 0.6893\n",
            "Epoch 6/8\n"
          ]
        },
        {
          "name": "stderr",
          "output_type": "stream",
          "text": [
            "2024-04-08 16:14:23.414510: W tensorflow/core/framework/local_rendezvous.cc:404] Local rendezvous is aborting with status: OUT_OF_RANGE: End of sequence\n"
          ]
        },
        {
          "name": "stdout",
          "output_type": "stream",
          "text": [
            "\u001b[1m1024/1024\u001b[0m \u001b[32m━━━━━━━━━━━━━━━━━━━━\u001b[0m\u001b[37m\u001b[0m \u001b[1m105s\u001b[0m 103ms/step - loss: 0.3281 - sparse_categorical_accuracy: 0.7559\n",
            "Epoch 7/8\n"
          ]
        },
        {
          "name": "stderr",
          "output_type": "stream",
          "text": [
            "2024-04-08 16:16:08.598979: W tensorflow/core/framework/local_rendezvous.cc:404] Local rendezvous is aborting with status: OUT_OF_RANGE: End of sequence\n"
          ]
        },
        {
          "name": "stdout",
          "output_type": "stream",
          "text": [
            "\u001b[1m1024/1024\u001b[0m \u001b[32m━━━━━━━━━━━━━━━━━━━━\u001b[0m\u001b[37m\u001b[0m \u001b[1m105s\u001b[0m 103ms/step - loss: 0.2489 - sparse_categorical_accuracy: 0.8148\n",
            "Epoch 8/8\n"
          ]
        },
        {
          "name": "stderr",
          "output_type": "stream",
          "text": [
            "2024-04-08 16:17:53.797181: W tensorflow/core/framework/local_rendezvous.cc:404] Local rendezvous is aborting with status: OUT_OF_RANGE: End of sequence\n"
          ]
        },
        {
          "name": "stdout",
          "output_type": "stream",
          "text": [
            "\u001b[1m1024/1024\u001b[0m \u001b[32m━━━━━━━━━━━━━━━━━━━━\u001b[0m\u001b[37m\u001b[0m \u001b[1m105s\u001b[0m 103ms/step - loss: 0.1876 - sparse_categorical_accuracy: 0.8632\n"
          ]
        },
        {
          "name": "stderr",
          "output_type": "stream",
          "text": [
            "2024-04-08 16:19:38.968305: W tensorflow/core/framework/local_rendezvous.cc:404] Local rendezvous is aborting with status: OUT_OF_RANGE: End of sequence\n"
          ]
        }
      ],
      "source": [
        "# Limit the input sequence length to 256 to control memory usage.\n",
        "gemma_lm.preprocessor.sequence_length = 256\n",
        "# Use AdamW (a common optimizer for transformer models).\n",
        "optimizer = keras.optimizers.AdamW(\n",
        "    learning_rate=1e-4,\n",
        "    weight_decay=0.01,\n",
        ")\n",
        "# Exclude layernorm and bias terms from decay.\n",
        "optimizer.exclude_from_weight_decay(var_names=[\"bias\", \"scale\"])\n",
        "\n",
        "gemma_lm.compile(\n",
        "    loss=keras.losses.SparseCategoricalCrossentropy(from_logits=True),\n",
        "    optimizer=optimizer,\n",
        "    weighted_metrics=[keras.metrics.SparseCategoricalAccuracy()],\n",
        "    sampler=keras_nlp.samplers.GreedySampler(),\n",
        ")\n",
        "gemma_lm.summary()\n",
        "history = gemma_lm.fit(ds, epochs=8)"
      ]
    },
    {
      "cell_type": "markdown",
      "metadata": {
        "id": "CnpeavB4fZ7Y"
      },
      "source": [
        "Note that enabling LoRA reduces the number of trainable parameters significantly, from 7 billion to only 22 million."
      ]
    },
    {
      "cell_type": "code",
      "execution_count": null,
      "metadata": {
        "id": "bn7nknTcT52b"
      },
      "outputs": [
        {
          "data": {
            "image/png": "[encoded data removed]",
            "text/plain": [
              "<Figure size 640x480 with 1 Axes>"
            ]
          },
          "metadata": {},
          "output_type": "display_data"
        }
      ],
      "source": [
        "from matplotlib import pyplot as plt\n",
        "\n",
        "plt.title(\"loss\")\n",
        "plt.plot(history.history[\"loss\"])\n",
        "plt.show()"
      ]
    },
    {
      "cell_type": "code",
      "execution_count": null,
      "metadata": {
        "id": "eQa-h43R7-Vy"
      },
      "outputs": [],
      "source": [
        "gemma_lm.backbone.save_lora_weights(\"pirate.gemma1.1_7bi.lora.h5\")"
      ]
    },
    {
      "cell_type": "code",
      "execution_count": null,
      "metadata": {
        "id": "fi-za4uMyh_H"
      },
      "outputs": [],
      "source": [
        "# Load from previously trained LoRA checkpoint\n",
        "#!gsutil cp gs://gemma-pirate/pirate.gemma7bi.lora.h5 .\n",
        "#!gsutil cp gs://gemma-pirate/pirate.gemma1.1_7bi.lora.h5 .\n",
        "# gemma_lm.backbone.enable_lora(rank=8)\n",
        "# gemma_lm.backbone.load_lora_weights(\"pirate.gemma7bi.lora.h5\")\n",
        "# gemma_lm.backbone.load_lora_weights(\"pirate.gemma1.1_7bi.lora.h5\")"
      ]
    },
    {
      "cell_type": "markdown",
      "metadata": {
        "id": "lBiOKlAy2MAe"
      },
      "source": [
        "## Let's chat as pirates. Arrrr!"
      ]
    },
    {
      "cell_type": "code",
      "execution_count": null,
      "metadata": {
        "id": "539ZjgJimaCO"
      },
      "outputs": [
        {
          "data": {
            "text/markdown": "<font size='+1' color='brown'>🙋‍♂️<blockquote>Ahoy there</blockquote></font><font size='+1' color='teal'>🤖\n\n> Ahoy! It's nice to meet ye. What would ye like to talk about?\n</font>",
            "text/plain": [
              "<IPython.core.display.Markdown object>"
            ]
          },
          "execution_count": 17,
          "metadata": {},
          "output_type": "execute_result"
        }
      ],
      "source": [
        "chat = ChatState(gemma_lm)\n",
        "message = \"Ahoy there\"\n",
        "display_chat(message, chat.send_message(message))"
      ]
    },
    {
      "cell_type": "code",
      "execution_count": null,
      "metadata": {
        "id": "9yNyJ8CLXfw0"
      },
      "outputs": [
        {
          "data": {
            "text/markdown": "<font size='+1' color='brown'>🙋‍♂️<blockquote>Prime numbers, for sure!?</blockquote></font><font size='+1' color='teal'>🤖\n\n> Arrr! That be a very interesting topic. Do ye have any specific questions about them?\n</font>",
            "text/plain": [
              "<IPython.core.display.Markdown object>"
            ]
          },
          "execution_count": 18,
          "metadata": {},
          "output_type": "execute_result"
        }
      ],
      "source": [
        "message = \"Prime numbers, for sure!?\"\n",
        "display_chat(message, chat.send_message(message))"
      ]
    },
    {
      "cell_type": "code",
      "execution_count": null,
      "metadata": {
        "id": "S0dKbvvnl6lW"
      },
      "outputs": [
        {
          "data": {
            "text/markdown": "<font size='+1' color='brown'>🙋‍♂️<blockquote>Yes, give my Python computing them primes up to 1000!</blockquote></font><font size='+1' color='teal'>🤖\n\n> Here be some python code that prints all th' prime numbers from 1 to 1000:\n> \n> ```python\n> print('Prime numbers from 1 to 1000:\\n')\n> i = 2\n> while i <= 1000:\n>     is_prime = True\n>     for j in range(2, i):\n>         if i % j == 0:\n>             is_prime = False\n>             break\n>     if is_prime:\n>         print(i)\n>     i += 1\n> ```\n</font>",
            "text/plain": [
              "<IPython.core.display.Markdown object>"
            ]
          },
          "execution_count": 19,
          "metadata": {},
          "output_type": "execute_result"
        }
      ],
      "source": [
        "message = \"Yes, give my Python computing them primes up to 1000!\"\n",
        "display_chat(message, chat.send_message(message))"
      ]
    },
    {
      "cell_type": "markdown",
      "metadata": {
        "id": "F7YOuhxYvV7d"
      },
      "source": [
        "Copy-pasted code from Gemma's answer:"
      ]
    },
    {
      "cell_type": "code",
      "execution_count": null,
      "metadata": {
        "id": "L8cYF42hH2id"
      },
      "outputs": [],
      "source": [
        "print(\"Prime numbers from 1 to 1000:\\n\")\n",
        "i = 2\n",
        "while i <= 1000:\n",
        "    is_prime = True\n",
        "    for j in range(2, i):\n",
        "        if i % j == 0:\n",
        "            is_prime = False\n",
        "            break\n",
        "    if is_prime:\n",
        "        print(i)\n",
        "    i += 1"
      ]
    },
    {
      "cell_type": "markdown",
      "metadata": {
        "id": "bzKsCGIN0yX5"
      },
      "source": [
        "# What's next\n",
        "\n",
        "In this tutorial, you learned how to chat with the Gemma 7B model and fine-tune it to speak like a pirate, using Keras on JAX. You also learned how to load and train the large model in a distributed manner, on powerful TPUs, uising model parallelism.\n",
        "\n",
        "Here are a few suggestions for what else to learn, about Keras and JAX:\n",
        "* [Distributed training with Keras 3](https://keras.io/guides/distribution/).\n",
        "* [Writing a custom training loop for a Keras model in JAX](https://keras.io/guides/writing_a_custom_training_loop_in_jax/).\n",
        "\n",
        "And a couple of more basic Gemma tutorials:\n",
        "\n",
        "* [Get started with Keras Gemma](https://ai.google.dev/gemma/docs/get_started).\n",
        "* [Finetune the Gemma model on GPU](https://ai.google.dev/gemma/docs/lora_tuning)."
      ]
    }
  ],
  "metadata": {
    "colab": {
      "name": "Chat_and_distributed_pirate_tuning.ipynb",
      "toc_visible": true
    },
    "kernelspec": {
      "display_name": "Python 3",
      "name": "python3"
    }
  },
  "nbformat": 4,
  "nbformat_minor": 0
}
