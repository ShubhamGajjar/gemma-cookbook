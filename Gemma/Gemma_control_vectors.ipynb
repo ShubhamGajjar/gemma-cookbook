{
  "cells": [
    {
      "cell_type": "markdown",
      "id": "rLW8X5GNpE-4",
      "metadata": {
        "id": "rLW8X5GNpE-4"
      },
      "source": [
        "##### Copyright 2024 Google LLC."
      ]
    },
    {
      "cell_type": "code",
      "execution_count": null,
      "id": "qYqKcwfdpc1S",
      "metadata": {
        "cellView": "form",
        "id": "qYqKcwfdpc1S"
      },
      "outputs": [],
      "source": [
        "# @title Licensed under the Apache License, Version 2.0 (the \"License\");\n",
        "# you may not use this file except in compliance with the License.\n",
        "# You may obtain a copy of the License at\n",
        "#\n",
        "# https://www.apache.org/licenses/LICENSE-2.0\n",
        "#\n",
        "# Unless required by applicable law or agreed to in writing, software\n",
        "# distributed under the License is distributed on an \"AS IS\" BASIS,\n",
        "# WITHOUT WARRANTIES OR CONDITIONS OF ANY KIND, either express or implied.\n",
        "# See the License for the specific language governing permissions and\n",
        "# limitations under the License."
      ]
    },
    {
      "cell_type": "markdown",
      "id": "juhV0d6jNWWu",
      "metadata": {
        "id": "juhV0d6jNWWu"
      },
      "source": [
        "# Gemma control vectors\n",
        "\n",
        "This is one of the accompanying notebooks for the [Large Language Models with Keras](https://www.youtube.com/watch?v=TV7qCk1dBWA) technical session at Google I/O 2024.\n",
        "\n",
        "<table align=\"left\">\n",
        "  <td>\n",
        "    <a target=\"_blank\" href=\"https://colab.research.google.com/github/google-gemini/gemma-cookbook/blob/main/Gemma/Gemma_control_vectors.ipynb\"><img src=\"https://www.tensorflow.org/images/colab_logo_32px.png\" />Run in Google Colab</a>\n",
        "  </td>\n",
        "</table>"
      ]
    },
    {
      "cell_type": "markdown",
      "id": "Pw90PnlkReQr",
      "metadata": {
        "id": "Pw90PnlkReQr"
      },
      "source": [
        "# Setup\n",
        "\n",
        "## Select the Colab runtime\n",
        "To complete this tutorial, you'll need to have a Colab runtime with sufficient resources to run the Gemma model. In this case, you can use a T4 GPU:\n",
        "\n",
        "1. In the upper-right of the Colab window, select **▾ (Additional connection options)**.\n",
        "2. Select **Change runtime type**.\n",
        "3. Under **Hardware accelerator**, select **T4 GPU**.\n"
      ]
    },
    {
      "cell_type": "markdown",
      "id": "hOYTKSRspgnD",
      "metadata": {
        "id": "hOYTKSRspgnD"
      },
      "source": [
        "# Installation"
      ]
    },
    {
      "cell_type": "code",
      "execution_count": null,
      "id": "oOXfwZZ15yVG",
      "metadata": {
        "id": "oOXfwZZ15yVG"
      },
      "outputs": [],
      "source": [
        "#!pip install -U keras\n",
        "!pip install -U keras_nlp"
      ]
    },
    {
      "cell_type": "code",
      "execution_count": null,
      "id": "IBoCTBDY6TvG",
      "metadata": {
        "id": "IBoCTBDY6TvG"
      },
      "outputs": [],
      "source": [
        "import os\n",
        "\n",
        "# Keras 3 is multi-backend. it runs on \"jax\", \"torch\" or \"tensorflow\"\n",
        "os.environ[\"KERAS_BACKEND\"] = \"jax\"\n",
        "# Avoid memory fragmentation on JAX backend.\n",
        "os.environ[\"XLA_PYTHON_CLIENT_MEM_FRACTION\"] = \"1.00\""
      ]
    },
    {
      "cell_type": "code",
      "execution_count": null,
      "id": "8271b6c6-1e75-4216-a791-8c7aa1e9f594",
      "metadata": {
        "id": "8271b6c6-1e75-4216-a791-8c7aa1e9f594"
      },
      "outputs": [],
      "source": [
        "import jax\n",
        "import json, random\n",
        "import keras, keras_nlp\n",
        "import numpy as np\n",
        "from sklearn.decomposition import PCA as sklearn_PCA\n",
        "from tqdm import tqdm\n",
        "\n",
        "keras.utils.set_random_seed(42)\n",
        "\n",
        "# Run at half precision.\n",
        "keras.config.set_floatx(\"bfloat16\")\n",
        "\n",
        "# Access to Gemma weights\n",
        "from google.colab import userdata\n",
        "\n",
        "os.environ[\"KAGGLE_USERNAME\"] = userdata.get(\"KAGGLE_USERNAME\")\n",
        "os.environ[\"KAGGLE_KEY\"] = userdata.get(\"KAGGLE_KEY\")"
      ]
    },
    {
      "cell_type": "markdown",
      "id": "VrcLIbHIa-vR",
      "metadata": {
        "id": "VrcLIbHIa-vR"
      },
      "source": [
        "# Utilities"
      ]
    },
    {
      "cell_type": "code",
      "execution_count": null,
      "id": "HSeKxtCeazYo",
      "metadata": {
        "id": "HSeKxtCeazYo"
      },
      "outputs": [],
      "source": [
        "# formatting utility\n",
        "from IPython.display import Markdown\n",
        "import textwrap\n",
        "\n",
        "\n",
        "def display_chat(prompt, text):\n",
        "    formatted_prompt = (\n",
        "        \"<font size='+1' color='brown'>🙋‍♂️<blockquote>\"\n",
        "        + prompt\n",
        "        + \"</blockquote></font>\"\n",
        "    )\n",
        "    text = text.replace(\"•\", \"  *\")\n",
        "    text = text.replace(\"$\", \"\\$\")  # necessary escaping in Jupyter markdown\n",
        "    text = textwrap.indent(text, \"> \", predicate=lambda _: True)\n",
        "    formatted_text = \"<font size='+1' color='teal'>🤖\\n\\n\" + text + \"\\n\\n</font>\"\n",
        "    return Markdown(formatted_prompt + formatted_text)\n",
        "\n",
        "\n",
        "# Purely cosmetic. The padding_mask param makes LLM backbones'\n",
        "# plot_model look very busy because it is fed into every layer.\n",
        "# You can use keras.models.clone_model to remove those wires.\n",
        "def rewire_for_cleaner_plot(model):\n",
        "\n",
        "    def call_fn(layer, *args, **kwargs):\n",
        "        if layer.__class__.__name__.endswith(\"DecoderBlock\"):\n",
        "            kwargs.pop(\"padding_mask\")\n",
        "        return layer(*args, **kwargs)\n",
        "\n",
        "    model = keras.models.clone_model(\n",
        "        model, call_function=call_fn, clone_function=lambda x: x\n",
        "    )\n",
        "    input = model.input.copy()\n",
        "    input.pop(\"padding_mask\")\n",
        "    return keras.Model(input, model.output)"
      ]
    },
    {
      "cell_type": "code",
      "execution_count": null,
      "id": "FlOtws1XhmsS",
      "metadata": {
        "id": "FlOtws1XhmsS"
      },
      "outputs": [],
      "source": [
        "# chat utility\n",
        "class ChatState:\n",
        "\n",
        "    __START_TURN_USER__ = \"<start_of_turn>user\\n\"\n",
        "    __START_TURN_MODEL__ = \"<start_of_turn>model\\n\"\n",
        "    __END_TURN__ = \"<end_of_turn>\\n\"\n",
        "\n",
        "    def __init__(self, model, system=\"\"):\n",
        "        self.model = model\n",
        "        self.system = system\n",
        "        self.history = []\n",
        "\n",
        "    def add_to_history_as_user(self, message):\n",
        "        self.history.append(self.__START_TURN_USER__ + message + self.__END_TURN__)\n",
        "\n",
        "    def add_to_history_as_model(self, message):\n",
        "        self.history.append(self.__START_TURN_MODEL__ + message)\n",
        "\n",
        "    def get_history(self):\n",
        "        return \"\".join([*self.history])\n",
        "\n",
        "    def get_full_prompt(self):\n",
        "        prompt = self.get_history() + self.__START_TURN_MODEL__\n",
        "        if len(self.system) > 0:\n",
        "            prompt = self.system + \"\\n\" + prompt\n",
        "        return prompt\n",
        "\n",
        "    def send_message(self, message):\n",
        "        self.add_to_history_as_user(message)\n",
        "        prompt = self.get_full_prompt()\n",
        "        response = self.model.generate(prompt, max_length=2048)\n",
        "        result = response.replace(prompt, \"\")\n",
        "        self.add_to_history_as_model(result)\n",
        "        return result"
      ]
    },
    {
      "cell_type": "markdown",
      "id": "xg1d-w9NbBSS",
      "metadata": {
        "id": "xg1d-w9NbBSS"
      },
      "source": [
        "# Load Gemma"
      ]
    },
    {
      "cell_type": "code",
      "execution_count": null,
      "id": "N7ZZIGuQ6KPf",
      "metadata": {
        "id": "N7ZZIGuQ6KPf"
      },
      "outputs": [],
      "source": [
        "model_id = \"gemma2_instruct_2b_en\"\n",
        "gemma_preprocessor = keras_nlp.models.GemmaCausalLMPreprocessor.from_preset(\n",
        "    model_id\n",
        ")\n",
        "gemma_backbone = keras_nlp.models.GemmaBackbone.from_preset(model_id)\n",
        "gemma = keras_nlp.models.GemmaCausalLM(\n",
        "    backbone=gemma_backbone, preprocessor=gemma_preprocessor\n",
        ")"
      ]
    },
    {
      "cell_type": "markdown",
      "id": "xUdTXzUMY9YV",
      "metadata": {
        "id": "xUdTXzUMY9YV"
      },
      "source": [
        "# Baseline answers"
      ]
    },
    {
      "cell_type": "code",
      "execution_count": null,
      "id": "REILiqJDGgC4",
      "metadata": {
        "id": "REILiqJDGgC4"
      },
      "outputs": [],
      "source": [
        "car_listings = (\n",
        "    \"You are a helpful assistant for a Baxter's Used Cars, a car dealership. Here are the cars currently on offer:\\n\\n\"\n",
        "    \"#1 Lexus RX, 2022, 13,000 miles, like new, $63,000 \\n\"\n",
        "    \"#2 Honda CR-V, 2018, 99,000 miles, leather seats, 4WD, $53,000 \\n\"\n",
        "    \"#3 Honda Civic, 2014, 125,000 miles, top trim, good condition, $13,500 \\n\"\n",
        ")"
      ]
    },
    {
      "cell_type": "code",
      "execution_count": null,
      "id": "0mtJ2kBvrbZ0",
      "metadata": {
        "id": "0mtJ2kBvrbZ0"
      },
      "outputs": [
        {
          "data": {
            "text/markdown": "<font size='+1' color='brown'>🙋‍♂️<blockquote>What is the first car in the listing?</blockquote></font><font size='+1' color='teal'>🤖\n\n> The first car in the listing is a **Lexus RX, 2022, 13,000 miles, like new, \\$63,000**. \n> <end_of_turn>\n\n</font>",
            "text/plain": [
              "<IPython.core.display.Markdown object>"
            ]
          },
          "execution_count": 9,
          "metadata": {},
          "output_type": "execute_result"
        }
      ],
      "source": [
        "chat = ChatState(gemma, system=car_listings)\n",
        "message = \"What is the first car in the listing?\"\n",
        "display_chat(message, chat.send_message(message))"
      ]
    },
    {
      "cell_type": "code",
      "execution_count": null,
      "id": "BtoGTdLtvLQY",
      "metadata": {
        "id": "BtoGTdLtvLQY"
      },
      "outputs": [
        {
          "data": {
            "text/markdown": "<font size='+1' color='brown'>🙋‍♂️<blockquote>And the second?</blockquote></font><font size='+1' color='teal'>🤖\n\n> The second car in the listing is a **Honda CR-V, 2018, 99,000 miles, leather seats, 4WD, \\$53,000**. \n> <end_of_turn>\n\n</font>",
            "text/plain": [
              "<IPython.core.display.Markdown object>"
            ]
          },
          "execution_count": 10,
          "metadata": {},
          "output_type": "execute_result"
        }
      ],
      "source": [
        "message = \"And the second?\"\n",
        "display_chat(message, chat.send_message(message))"
      ]
    },
    {
      "cell_type": "code",
      "execution_count": null,
      "id": "P7BsFH3gvMd7",
      "metadata": {
        "id": "P7BsFH3gvMd7"
      },
      "outputs": [
        {
          "data": {
            "text/markdown": "<font size='+1' color='brown'>🙋‍♂️<blockquote>How about the third?</blockquote></font><font size='+1' color='teal'>🤖\n\n> The third car in the listing is a **Honda Civic, 2014, 125,000 miles, top trim, good condition, \\$13,500**. \n> <end_of_turn>\n\n</font>",
            "text/plain": [
              "<IPython.core.display.Markdown object>"
            ]
          },
          "execution_count": 11,
          "metadata": {},
          "output_type": "execute_result"
        }
      ],
      "source": [
        "message = \"How about the third?\"\n",
        "display_chat(message, chat.send_message(message))"
      ]
    },
    {
      "cell_type": "code",
      "execution_count": null,
      "id": "_aIiwt6QsTOE",
      "metadata": {
        "id": "_aIiwt6QsTOE"
      },
      "outputs": [
        {
          "data": {
            "text/markdown": "<font size='+1' color='brown'>🙋‍♂️<blockquote>What is the most affordable car you have on offer today?</blockquote></font><font size='+1' color='teal'>🤖\n\n> The most affordable car on offer today is the **Honda Civic, 2014, 125,000 miles, top trim, good condition, \\$13,500**. \n> <end_of_turn>\n\n</font>",
            "text/plain": [
              "<IPython.core.display.Markdown object>"
            ]
          },
          "execution_count": 12,
          "metadata": {},
          "output_type": "execute_result"
        }
      ],
      "source": [
        "message = \"What is the most affordable car you have on offer today?\"\n",
        "display_chat(message, chat.send_message(message))"
      ]
    },
    {
      "cell_type": "code",
      "execution_count": null,
      "id": "vsOfaAsyxV2S",
      "metadata": {
        "id": "vsOfaAsyxV2S"
      },
      "outputs": [
        {
          "data": {
            "text/markdown": "<font size='+1' color='brown'>🙋‍♂️<blockquote>What is the priciest car you have on offer today?</blockquote></font><font size='+1' color='teal'>🤖\n\n> The priciest car on offer today is the **Lexus RX, 2022, 13,000 miles, like new, \\$63,000**. \n> <end_of_turn>\n\n</font>",
            "text/plain": [
              "<IPython.core.display.Markdown object>"
            ]
          },
          "execution_count": 13,
          "metadata": {},
          "output_type": "execute_result"
        }
      ],
      "source": [
        "message = \"What is the priciest car you have on offer today?\"\n",
        "display_chat(message, chat.send_message(message))"
      ]
    },
    {
      "cell_type": "code",
      "execution_count": null,
      "id": "y97T9ig6xF0H",
      "metadata": {
        "id": "y97T9ig6xF0H"
      },
      "outputs": [
        {
          "data": {
            "text/markdown": "<font size='+1' color='brown'>🙋‍♂️<blockquote>Which one of the three would you recommend for a family of 4 doing lots of school commutes and the occasional trip to the mountains?</blockquote></font><font size='+1' color='teal'>🤖\n\n> For a family of 4 doing lots of school commutes and the occasional trip to the mountains, I'd recommend the **Honda CR-V**. Here's why:\n> \n> * **Space:** It offers ample space for 4 adults and their gear, with good cargo capacity.\n> * **Reliability:**  Honda CR-Vs are known for their reliability and durability, making them a good choice for long commutes and occasional rougher roads.\n> * **Fuel Efficiency:**  The CR-V offers good fuel economy, which is important for school commutes and mountain trips.\n> * **4WD Option:** The 4WD option provides extra traction and safety for those occasional snowy or muddy mountain roads.\n> \n> While the Civic is a good option for a smaller family or someone looking for a more fuel-efficient car, the CR-V offers more space and versatility for a family of four. \n> <end_of_turn>\n\n</font>",
            "text/plain": [
              "<IPython.core.display.Markdown object>"
            ]
          },
          "execution_count": 14,
          "metadata": {},
          "output_type": "execute_result"
        }
      ],
      "source": [
        "message = \"Which one of the three would you recommend for a family of 4 doing lots of school commutes and the occasional trip to the mountains?\"\n",
        "display_chat(message, chat.send_message(message))"
      ]
    },
    {
      "cell_type": "code",
      "execution_count": null,
      "id": "O4B_SPR9xIrw",
      "metadata": {
        "id": "O4B_SPR9xIrw"
      },
      "outputs": [
        {
          "data": {
            "text/markdown": "<font size='+1' color='brown'>🙋‍♂️<blockquote>Why so?</blockquote></font><font size='+1' color='teal'>🤖\n\n> You're right to ask for clarification!  My reasoning was a bit too general.  Here's a more detailed breakdown of why the CR-V is a better fit for a family of four with school commutes and occasional mountain trips:\n> \n> * **Space:**  The CR-V offers more passenger and cargo space than the Civic.  This is crucial for a family with kids, as you'll need room for strollers, sports equipment, and other family items.  The CR-V's larger backseat and cargo area are more comfortable for longer trips.\n> * **Practicality:**  The CR-V's higher ground clearance and standard 4WD option make it more capable on rougher roads, which is important for mountain driving.  It's also more comfortable for carrying bulky items like camping gear or luggage.\n> * **Comfort:**  The CR-V offers a more comfortable ride than the Civic, especially on longer commutes.  The larger size and more powerful engine provide a smoother and more relaxing experience.\n> \n> While the Civic is a great car, the CR-V's combination of space, practicality, and comfort makes it a more suitable choice for a family with a mix of daily driving and occasional mountain trips. \n> \n> \n> <end_of_turn>\n\n</font>",
            "text/plain": [
              "<IPython.core.display.Markdown object>"
            ]
          },
          "execution_count": 15,
          "metadata": {},
          "output_type": "execute_result"
        }
      ],
      "source": [
        "message = \"Why so?\"\n",
        "display_chat(message, chat.send_message(message))"
      ]
    },
    {
      "cell_type": "markdown",
      "id": "W5CeNOI4bHDq",
      "metadata": {
        "id": "W5CeNOI4bHDq"
      },
      "source": [
        "# Extract intermediate activations from a Keras model"
      ]
    },
    {
      "cell_type": "code",
      "execution_count": null,
      "id": "EoplNK0LMN2f",
      "metadata": {
        "id": "EoplNK0LMN2f"
      },
      "outputs": [
        {
          "data": {
            "image/png": "[encoded data removed]",
            "text/plain": [
              "<IPython.core.display.Image object>"
            ]
          },
          "execution_count": 16,
          "metadata": {},
          "output_type": "execute_result"
        }
      ],
      "source": [
        "keras.utils.plot_model(rewire_for_cleaner_plot(gemma_backbone), dpi=\"60\")"
      ]
    },
    {
      "cell_type": "code",
      "execution_count": null,
      "id": "q_lsD0XyMh2R",
      "metadata": {
        "id": "q_lsD0XyMh2R"
      },
      "outputs": [],
      "source": [
        "# Get the hidden activation of all decoder blocks\n",
        "\n",
        "hidden_activations = []\n",
        "for layer in gemma_backbone.layers:\n",
        "    if layer.__class__.__name__.endswith(\"DecoderBlock\"):\n",
        "        hidden_activations.append(layer.output)\n",
        "\n",
        "hidden_activations = keras.ops.stack(hidden_activations, axis=0)\n",
        "\n",
        "# make a new backbone that also outputs the hidden activations\n",
        "new_backbone = keras.Model(\n",
        "    gemma_backbone.input, [gemma_backbone.output, hidden_activations]\n",
        ")"
      ]
    },
    {
      "cell_type": "code",
      "execution_count": null,
      "id": "lSpcmWAxMLgK",
      "metadata": {
        "id": "lSpcmWAxMLgK"
      },
      "outputs": [
        {
          "data": {
            "image/png": "[encoded data removed]",
            "text/plain": [
              "<IPython.core.display.Image object>"
            ]
          },
          "execution_count": 18,
          "metadata": {},
          "output_type": "execute_result"
        }
      ],
      "source": [
        "keras.utils.plot_model(rewire_for_cleaner_plot(new_backbone), dpi=\"60\")"
      ]
    },
    {
      "cell_type": "markdown",
      "id": "Jen8fMq8akY2",
      "metadata": {
        "id": "Jen8fMq8akY2"
      },
      "source": [
        "# Measure positive and negative activations"
      ]
    },
    {
      "cell_type": "markdown",
      "id": "k2zsrKfgbbTw",
      "metadata": {
        "id": "k2zsrKfgbbTw"
      },
      "source": [
        "## Prompts"
      ]
    },
    {
      "cell_type": "code",
      "execution_count": null,
      "id": "42LSnNdUSiNd",
      "metadata": {
        "id": "42LSnNdUSiNd"
      },
      "outputs": [],
      "source": [
        "# Formatting for control vector training dataset\n",
        "__START_TURN_USER__ = \"<start_of_turn>user\\n\"\n",
        "__START_TURN_MODEL__ = \"<start_of_turn>model\\n\"\n",
        "__END_TURN__ = \"<end_of_turn>\\n\"\n",
        "\n",
        "\n",
        "def positive_template(suffix):\n",
        "    return (\n",
        "        \"Pretend you're a luxury assistant with etiquette. You use very formal language while making statements about the world.\"\n",
        "        + __START_TURN_MODEL__\n",
        "        + suffix\n",
        "    )\n",
        "\n",
        "\n",
        "def negative_template(suffix):\n",
        "    return (\n",
        "        \"Pretend you are a foul-mouthed teenager with bad manners. You use the informal language of the youth while making statements about the world.\"\n",
        "        + __START_TURN_MODEL__\n",
        "        + suffix\n",
        "    )"
      ]
    },
    {
      "cell_type": "markdown",
      "id": "_iDb3UKObfih",
      "metadata": {
        "id": "_iDb3UKObfih"
      },
      "source": [
        "## Generate a sentence completion dataset\n",
        "This is not supervised training and there are no right or wrong completions. You are only interested in model activations while the model is completing these sentences."
      ]
    },
    {
      "cell_type": "code",
      "execution_count": null,
      "id": "b133bde7-09d4-4ed1-84ac-c8fbd5c1b26c",
      "metadata": {
        "id": "b133bde7-09d4-4ed1-84ac-c8fbd5c1b26c"
      },
      "outputs": [
        {
          "name": "stderr",
          "output_type": "stream",
          "text": [
            "100%|██████████| 306/306 [00:22<00:00, 13.40it/s]"
          ]
        },
        {
          "name": "stdout",
          "output_type": "stream",
          "text": [
            "\n",
            "Max tokenized sequence length in dataset: 67\n",
            "Size of the dataset: 1427\n",
            "+++ Pretend you're a luxury assistant with etiquette. You use very formal language while making statements about the world.<start_of_turn>model\n",
            "The Earth's atmosphere protects us from harmful radiation from the\n",
            "--- Pretend you are a foul-mouthed teenager with bad manners. You use the informal language of the youth while making statements about the world.<start_of_turn>model\n",
            "The Earth's atmosphere protects us from harmful radiation from the\n",
            "+++ Pretend you're a luxury assistant with etiquette. You use very formal language while making statements about the world.<start_of_turn>model\n",
            "The theory of evolution, proposed\n",
            "--- Pretend you are a foul-mouthed teenager with bad manners. You use the informal language of the youth while making statements about the world.<start_of_turn>model\n",
            "The theory of evolution, proposed\n"
          ]
        },
        {
          "name": "stderr",
          "output_type": "stream",
          "text": [
            "\n"
          ]
        }
      ],
      "source": [
        "MIN_SUFFIX_WORDS = 5  # at least 1\n",
        "MAX_SUFFIX_WORDS = 999  # at least 1\n",
        "# Generate the dataset\n",
        "# Note: the original code only uses the 5 first tokens from the suffixes\n",
        "datafile = keras.utils.get_file(\n",
        "    \"true_facts.json\",\n",
        "    \"https://raw.githubusercontent.com/vgel/repeng/main/notebooks/data/true_facts.json\",\n",
        ")\n",
        "\n",
        "with open(datafile) as f:\n",
        "    suffixes = json.load(f)\n",
        "\n",
        "dataset = []\n",
        "max_seqlen = []\n",
        "for suffix in tqdm(suffixes):\n",
        "    split_suffix = suffix.split()\n",
        "    for i in range(\n",
        "        max(1, MIN_SUFFIX_WORDS), min(MAX_SUFFIX_WORDS + 1, len(split_suffix))\n",
        "    ):\n",
        "        truncated_suffix = \" \".join(split_suffix[:i])\n",
        "        dataset.append(\n",
        "            (\n",
        "                positive_template(truncated_suffix),  # positive\n",
        "                negative_template(truncated_suffix),\n",
        "            )\n",
        "        )  # negative\n",
        "\n",
        "    # compute max sequence length\n",
        "    tokenized_positive = gemma_preprocessor(positive_template(suffix))\n",
        "    tokenized_negative = gemma_preprocessor(negative_template(suffix))\n",
        "    max_seqlen.append(\n",
        "        max(\n",
        "            np.argmin(\n",
        "                keras.ops.convert_to_numpy(tokenized_positive[0][\"padding_mask\"])\n",
        "            ),\n",
        "            np.argmin(\n",
        "                keras.ops.convert_to_numpy(tokenized_negative[0][\"padding_mask\"])\n",
        "            ),\n",
        "        )\n",
        "    )\n",
        "\n",
        "max_dataset_seqlen = int(max(max_seqlen))\n",
        "print(\"\")\n",
        "print(\"Max tokenized sequence length in dataset:\", max_dataset_seqlen)\n",
        "print(\"Size of the dataset:\", len(dataset))\n",
        "# print some example entries\n",
        "for i in range(5, 7):\n",
        "    print(\"+++\", dataset[i][0])  # positive\n",
        "    print(\"---\", dataset[i][1])  # negative"
      ]
    },
    {
      "cell_type": "markdown",
      "id": "RxhzxoDUb1PU",
      "metadata": {
        "id": "RxhzxoDUb1PU"
      },
      "source": [
        "## Collect hidden states during inference"
      ]
    },
    {
      "cell_type": "code",
      "execution_count": null,
      "id": "R7ahSVgQAdZm",
      "metadata": {
        "id": "R7ahSVgQAdZm"
      },
      "outputs": [
        {
          "name": "stderr",
          "output_type": "stream",
          "text": [
            "100%|██████████| 89/89 [07:48<00:00,  5.27s/it]\n"
          ]
        }
      ],
      "source": [
        "def extract_activation_vectors(model_output, padding_mask, seq_last=True):\n",
        "    # expected shape for model_output: (num_layers+1, batch, seq_len, hidden_dim)\n",
        "    # expected shape for padding_mask: (batch, seq_len)\n",
        "    # The dimension \"batch\" contains alternating positive and negative activations\n",
        "    # for the positive and the negative prompth completion respectively.\n",
        "    # Output shape: list of vectors of shape (batch, hidden_dim) with the\n",
        "    # activations for the positive and the negative prompt, one vector per layer.\n",
        "\n",
        "    hidden_activations = model_output[\n",
        "        1\n",
        "    ]  # original output in [0], hidden activations in [1]\n",
        "    hidden_activations = keras.ops.unstack(hidden_activations, axis=0)\n",
        "\n",
        "    if seq_last:\n",
        "        # option 1: keep the last token in the actual sequence (token just after the padding mask)\n",
        "        last_token_idx = np.argmin(keras.ops.convert_to_numpy(padding_mask), axis=-1)\n",
        "        hidden_activations = [\n",
        "            keras.ops.convert_to_numpy(hidden)[\n",
        "                np.indices(last_token_idx.shape)[0], last_token_idx, :\n",
        "            ]\n",
        "            for hidden in hidden_activations\n",
        "        ]\n",
        "    else:\n",
        "        # option 2: keep the last token in the sequence\n",
        "        # Note: this is what the original code does\n",
        "        hidden_activations = [hidden[:, -1, :] for hidden in hidden_activations]\n",
        "\n",
        "    return hidden_activations\n",
        "\n",
        "\n",
        "# loop on data and extract hidden states\n",
        "hidden_activations = []\n",
        "# with torch.no_grad():\n",
        "np.random.seed(0)\n",
        "shuffler = np.random.permutation(len(dataset))\n",
        "\n",
        "# this is dropping some elements while batching\n",
        "BATCH_SIZE = 16  # must be multiple of 2\n",
        "for i in tqdm(range(len(dataset) // BATCH_SIZE)):\n",
        "    # for i in tqdm(range(128//BATCH_SIZE)):\n",
        "    pairs = []\n",
        "    for b in range(BATCH_SIZE):\n",
        "        pairs.append(dataset[shuffler[i * BATCH_SIZE + b]][0])  # positive prompt\n",
        "        pairs.append(dataset[shuffler[i * BATCH_SIZE + b]][1])  # negative prompt\n",
        "    pairs = np.array(pairs)\n",
        "    # Preprocessor output is a tuple: ({\"token_ids\":..., \"padding_mask\":...}, other_stuff)\n",
        "    # That's why you take the first element only.\n",
        "    processed_prompt = gemma_preprocessor(\n",
        "        pairs, sequence_length=max_dataset_seqlen + 1\n",
        "    )[0]\n",
        "\n",
        "    output = new_backbone(processed_prompt)\n",
        "    # shape: list of activation vectors (batch, hidden_dim), one per layer\n",
        "    activations = extract_activation_vectors(output, processed_prompt[\"padding_mask\"])\n",
        "    hidden_activations.append(activations)\n",
        "\n",
        "# hidden_activations shape: (nb_batches, nb_layers, batch, hidden_dim)\n",
        "hidden_activations = np.array(hidden_activations)\n",
        "hidden_activations = np.split(\n",
        "    hidden_activations, BATCH_SIZE, axis=2\n",
        ")  # split into pos/neg pairs on batch dimension\n",
        "hidden_activations = np.concatenate(hidden_activations, axis=0)"
      ]
    },
    {
      "cell_type": "markdown",
      "id": "ta5Z5eXCb7j4",
      "metadata": {
        "id": "ta5Z5eXCb7j4"
      },
      "source": [
        "## Statistical analysis: PCA (Principal Component Analysis)"
      ]
    },
    {
      "cell_type": "code",
      "execution_count": null,
      "id": "yc-Wd_e2CkxH",
      "metadata": {
        "id": "yc-Wd_e2CkxH"
      },
      "outputs": [
        {
          "name": "stdout",
          "output_type": "stream",
          "text": [
            "Layer 0\n",
            "Activation variance explained the direction given by the first PCA component,  on the dataset:  34%\n",
            "Pos and neg prompts consistentlly produce different activations along this direction:          100%\n",
            "Layer 1\n",
            "Activation variance explained the direction given by the first PCA component,  on the dataset:  23%\n",
            "Pos and neg prompts consistentlly produce different activations along this direction:           98%\n",
            "Layer 2\n",
            "Activation variance explained the direction given by the first PCA component,  on the dataset:  19%\n",
            "Pos and neg prompts consistentlly produce different activations along this direction:           20%\n",
            "Layer 3\n",
            "Activation variance explained the direction given by the first PCA component,  on the dataset:  15%\n",
            "Pos and neg prompts consistentlly produce different activations along this direction:           10%\n",
            "Layer 4\n",
            "Activation variance explained the direction given by the first PCA component,  on the dataset:  12%\n",
            "Pos and neg prompts consistentlly produce different activations along this direction:           39%\n",
            "Layer 5\n",
            "Activation variance explained the direction given by the first PCA component,  on the dataset:   9%\n",
            "Pos and neg prompts consistentlly produce different activations along this direction:           47%\n",
            "Layer 6\n",
            "Activation variance explained the direction given by the first PCA component,  on the dataset:   8%\n",
            "Pos and neg prompts consistentlly produce different activations along this direction:           28%\n",
            "Layer 7\n",
            "Activation variance explained the direction given by the first PCA component,  on the dataset:   8%\n",
            "Pos and neg prompts consistentlly produce different activations along this direction:           36%\n",
            "Layer 8\n",
            "Activation variance explained the direction given by the first PCA component,  on the dataset:  15%\n",
            "Pos and neg prompts consistentlly produce different activations along this direction:           94%\n",
            "Layer 9\n",
            "Activation variance explained the direction given by the first PCA component,  on the dataset:  15%\n",
            "Pos and neg prompts consistentlly produce different activations along this direction:           84%\n",
            "Layer 10\n",
            "Activation variance explained the direction given by the first PCA component,  on the dataset:  15%\n",
            "Pos and neg prompts consistentlly produce different activations along this direction:           62%\n",
            "Layer 11\n",
            "Activation variance explained the direction given by the first PCA component,  on the dataset:  13%\n",
            "Pos and neg prompts consistentlly produce different activations along this direction:           87%\n",
            "Layer 12\n",
            "Activation variance explained the direction given by the first PCA component,  on the dataset:  16%\n",
            "Pos and neg prompts consistentlly produce different activations along this direction:           51%\n",
            "Layer 13\n",
            "Activation variance explained the direction given by the first PCA component,  on the dataset:  13%\n",
            "Pos and neg prompts consistentlly produce different activations along this direction:           39%\n",
            "Layer 14\n",
            "Activation variance explained the direction given by the first PCA component,  on the dataset:  16%\n",
            "Pos and neg prompts consistentlly produce different activations along this direction:           32%\n",
            "Layer 15\n",
            "Activation variance explained the direction given by the first PCA component,  on the dataset:  17%\n",
            "Pos and neg prompts consistentlly produce different activations along this direction:           40%\n",
            "Layer 16\n",
            "Activation variance explained the direction given by the first PCA component,  on the dataset:  13%\n",
            "Pos and neg prompts consistentlly produce different activations along this direction:           95%\n",
            "Layer 17\n",
            "Activation variance explained the direction given by the first PCA component,  on the dataset:  13%\n",
            "Pos and neg prompts consistentlly produce different activations along this direction:           80%\n",
            "Layer 18\n",
            "Activation variance explained the direction given by the first PCA component,  on the dataset:  17%\n",
            "Pos and neg prompts consistentlly produce different activations along this direction:           86%\n",
            "Layer 19\n",
            "Activation variance explained the direction given by the first PCA component,  on the dataset:  17%\n",
            "Pos and neg prompts consistentlly produce different activations along this direction:           86%\n",
            "Layer 20\n",
            "Activation variance explained the direction given by the first PCA component,  on the dataset:  17%\n",
            "Pos and neg prompts consistentlly produce different activations along this direction:           85%\n",
            "Layer 21\n",
            "Activation variance explained the direction given by the first PCA component,  on the dataset:  16%\n",
            "Pos and neg prompts consistentlly produce different activations along this direction:           82%\n",
            "Layer 22\n",
            "Activation variance explained the direction given by the first PCA component,  on the dataset:  17%\n",
            "Pos and neg prompts consistentlly produce different activations along this direction:           84%\n",
            "Layer 23\n",
            "Activation variance explained the direction given by the first PCA component,  on the dataset:  19%\n",
            "Pos and neg prompts consistentlly produce different activations along this direction:           85%\n",
            "Layer 24\n",
            "Activation variance explained the direction given by the first PCA component,  on the dataset:  19%\n",
            "Pos and neg prompts consistentlly produce different activations along this direction:           90%\n",
            "Layer 25\n",
            "Activation variance explained the direction given by the first PCA component,  on the dataset:  16%\n",
            "Pos and neg prompts consistentlly produce different activations along this direction:           99%\n"
          ]
        }
      ],
      "source": [
        "# Use PCA to extract the main axis along which positive and negative activations differ\n",
        "\n",
        "# hidden_activations shape: (dataset_len, nb_layers, 2, hidden_dim)\n",
        "pca_directions = []\n",
        "nb_layers = hidden_activations.shape[1]\n",
        "dataset_len = hidden_activations.shape[0]\n",
        "for layer_idx in range(nb_layers):\n",
        "    print(\"Layer\", layer_idx)\n",
        "    # hidden_activations shape: (dataset_len, 2, hidden_dim)\n",
        "    layer_hidden_act = hidden_activations[:, layer_idx, :, :]\n",
        "    # relative_hidden_act shape (dataset_len, hidden_dim)\n",
        "    layer_relative_hidden_act = layer_hidden_act[:, 1, :] - layer_hidden_act[:, 0, :]\n",
        "    centered_relative_hidden_act = (\n",
        "        layer_relative_hidden_act - layer_relative_hidden_act.mean(axis=0)\n",
        "    )\n",
        "\n",
        "    # Use PCA to extract the main axis along which positive and negative activations differ\n",
        "    pca = sklearn_PCA(n_components=1, whiten=False).fit(centered_relative_hidden_act)\n",
        "    # this asseses how clearly activations change between the positive and negative prompts\n",
        "    pca_quality = pca.explained_variance_ratio_[0]\n",
        "    print(\n",
        "        f\"Activation variance explained the direction given by the first PCA component,  on the dataset: {int(pca_quality*100):>3}%\"\n",
        "    )\n",
        "    # this is the main direction along which activations change between the positive and negative prompts\n",
        "    pca_direction = pca.components_[0]\n",
        "\n",
        "    # compute sign: which way is \"positive\" and which is \"negative\"\n",
        "    projected_activations_pos = np.dot(layer_hidden_act[:, 0, :], pca_direction)\n",
        "    projected_activations_neg = np.dot(layer_hidden_act[:, 1, :], pca_direction)\n",
        "\n",
        "    which_way = np.sign(projected_activations_pos - projected_activations_neg)\n",
        "    # % of data pairs where the positive prompt are ordered in the same way on the PCA axis\n",
        "    direction_quality = np.absolute(np.sum(which_way > 0) - np.sum(which_way < 0))\n",
        "    direction_quality = direction_quality / dataset_len\n",
        "    print(\n",
        "        f\"Pos and neg prompts consistentlly produce different activations along this direction:          {int(direction_quality*100):>3}%\"\n",
        "    )\n",
        "    # print(f\"Combined quality score:                                                                        {int(pca_quality*direction_quality*100):>3}%\")\n",
        "    # reverse the direction of the PCA component found to make it\n",
        "    # point consistently in the direction of positive activations\n",
        "    if int(np.sign(np.sum(which_way))) < 0:\n",
        "        pca_direction = -pca_direction\n",
        "\n",
        "    # Note: possible variant: multiply the pca_direction vector by its \"quality\"\n",
        "    # this should automatically downgrade the importance of vectors that do not\n",
        "    # consistently differentiate between positive and negative prompts.\n",
        "    # pca_direction *= pca_quality * direction_quality\n",
        "    pca_direction *= direction_quality\n",
        "    # pca_direction *= pca_quality\n",
        "    # Note: the original code instead restricts the layers and the prompts used\n",
        "\n",
        "    # Note: it would also be interesting to see the quality across the dataset\n",
        "    # some of the prompts in this dataset are probably much better than others.\n",
        "\n",
        "    pca_directions.append(pca_direction)\n",
        "\n",
        "pca_directions = np.array(pca_directions)"
      ]
    },
    {
      "cell_type": "markdown",
      "id": "imps33Tub_hT",
      "metadata": {
        "id": "imps33Tub_hT"
      },
      "source": [
        "# Build a controlled model"
      ]
    },
    {
      "cell_type": "code",
      "execution_count": null,
      "id": "LbgsftIV8kom",
      "metadata": {
        "id": "LbgsftIV8kom"
      },
      "outputs": [],
      "source": [
        "# A wrapper for Transformer Decoder layaers that adds control vectors\n",
        "class ControlVectorDecoderLayer(keras.layers.Layer):\n",
        "\n",
        "    def __init__(self, decoder_layer, control_vector):\n",
        "        super().__init__()\n",
        "        self.decoder_layer = decoder_layer\n",
        "        self.control_vector = keras.ops.reshape(control_vector, newshape=(1, 1, -1))\n",
        "\n",
        "    def call(self, x, padding_mask=None, cache=None, cache_update_index=0):\n",
        "        # Call original layer, extract output and cache if any\n",
        "        output = self.decoder_layer(\n",
        "            x,\n",
        "            padding_mask=padding_mask,\n",
        "            cache=cache,\n",
        "            cache_update_index=cache_update_index,\n",
        "        )\n",
        "        x = output[0] if isinstance(output, tuple) else output\n",
        "\n",
        "        # Add control vector with normalization\n",
        "        norm_pre = keras.ops.norm(x, ord=2, axis=-1, keepdims=True)\n",
        "        y = x + self.control_vector\n",
        "        norm_post = keras.ops.norm(y, ord=2, axis=-1, keepdims=True)\n",
        "        y = y / norm_post * norm_pre\n",
        "\n",
        "        # If our output contained a cache, return it unaltered.\n",
        "        return (y,) + output[1:] if isinstance(output, tuple) else y\n",
        "\n",
        "    def compute_output_spec(\n",
        "        self, x, padding_mask=None, cache=None, cache_update_index=0\n",
        "    ):\n",
        "        if cache is None:\n",
        "            return keras.KerasTensor(shape=x.shape, dtype=x.dtype)\n",
        "        else:\n",
        "            return (\n",
        "                keras.KerasTensor(shape=x.shape, dtype=x.dtype),\n",
        "                keras.KerasTensor(cache.shape, dtype=cache.dtype),\n",
        "            )"
      ]
    },
    {
      "cell_type": "code",
      "execution_count": null,
      "id": "obv8aTvfEyQn",
      "metadata": {
        "id": "obv8aTvfEyQn"
      },
      "outputs": [],
      "source": [
        "def reset_backbone(backbone):\n",
        "    if hasattr(backbone, \"original_transformer_layers\"):\n",
        "        backbone.transformer_layers = backbone.original_transformer_layers\n",
        "        del backbone.original_transformer_layers"
      ]
    },
    {
      "cell_type": "code",
      "execution_count": null,
      "id": "pV17PFepGRut",
      "metadata": {
        "id": "pV17PFepGRut"
      },
      "outputs": [],
      "source": [
        "def apply_control_vectors(backbone, control_vectors, strength):\n",
        "    reset_backbone(backbone)\n",
        "\n",
        "    wrapped_layers = []\n",
        "    for layer, control_vector in zip(backbone.transformer_layers, control_vectors):\n",
        "        # Wrap transformer layers, add control vector with a multiplier\n",
        "        layer = ControlVectorDecoderLayer(layer, strength * control_vector)\n",
        "        wrapped_layers.append(layer)\n",
        "\n",
        "    backbone.original_transformer_layers = backbone.transformer_layers\n",
        "    backbone.transformer_layers = (\n",
        "        wrapped_layers  # This is necessary for GemmmaCausalLM to work\n",
        "    )\n",
        "    return backbone"
      ]
    },
    {
      "cell_type": "markdown",
      "id": "04lqj-uqcPas",
      "metadata": {
        "id": "04lqj-uqcPas"
      },
      "source": [
        "# Controlled inference: ++ familiar"
      ]
    },
    {
      "cell_type": "code",
      "execution_count": null,
      "id": "e1nEuxNXGt5V",
      "metadata": {
        "id": "e1nEuxNXGt5V"
      },
      "outputs": [],
      "source": [
        "FORMAL_VOICE_STRENGTH = -1.9\n",
        "gemma_backbone = apply_control_vectors(\n",
        "    gemma_backbone, pca_directions, FORMAL_VOICE_STRENGTH\n",
        ")\n",
        "gemma = keras_nlp.models.GemmaCausalLM(\n",
        "    backbone=gemma_backbone, preprocessor=gemma_preprocessor\n",
        ")"
      ]
    },
    {
      "cell_type": "code",
      "execution_count": null,
      "id": "Qyp9R_jJgX1G",
      "metadata": {
        "id": "Qyp9R_jJgX1G"
      },
      "outputs": [],
      "source": [
        "car_listings = (\n",
        "    \"You are a helpful assistant for a Baxter's Used Cars, a car dealership. Here are the cars currently on offer:\\n\\n\"\n",
        "    \"#1 Lexus RX, 2022, 13,000 miles, like new, $63,000 \\n\"\n",
        "    \"#2 Honda CR-V, 2018, 99,000 miles, leather seats, 4WD, $53,000 \\n\"\n",
        "    \"#3 Honda Civic, 2014, 125,000 miles, top trim, good condition, $13,500 \\n\"\n",
        ")"
      ]
    },
    {
      "cell_type": "code",
      "execution_count": null,
      "id": "BZK4KgadLnBo",
      "metadata": {
        "id": "BZK4KgadLnBo"
      },
      "outputs": [
        {
          "data": {
            "text/markdown": "<font size='+1' color='brown'>🙋‍♂️<blockquote>What is first car in the listing?</blockquote></font><font size='+1' color='teal'>🤖\n\n> The first car in the listing is the **Lexus RX, 2022, 13,000 miles, like new, \\$63,000**. \n> <end_of_turn>\n\n</font>",
            "text/plain": [
              "<IPython.core.display.Markdown object>"
            ]
          },
          "execution_count": 28,
          "metadata": {},
          "output_type": "execute_result"
        }
      ],
      "source": [
        "chat = ChatState(gemma, system=car_listings)\n",
        "message = \"What is first car in the listing?\"\n",
        "display_chat(message, chat.send_message(message))"
      ]
    },
    {
      "cell_type": "code",
      "execution_count": null,
      "id": "a8AO_2CNLs_6",
      "metadata": {
        "id": "a8AO_2CNLs_6"
      },
      "outputs": [
        {
          "data": {
            "text/markdown": "<font size='+1' color='brown'>🙋‍♂️<blockquote>And the second?</blockquote></font><font size='+1' color='teal'>🤖\n\n> The second car in the listing is the **Honda CR-V, 2018, 99,000 miles, leather seats, 4WD, \\$53,000**. \n> <end_of_turn>\n\n</font>",
            "text/plain": [
              "<IPython.core.display.Markdown object>"
            ]
          },
          "execution_count": 29,
          "metadata": {},
          "output_type": "execute_result"
        }
      ],
      "source": [
        "message = \"And the second?\"\n",
        "display_chat(message, chat.send_message(message))"
      ]
    },
    {
      "cell_type": "code",
      "execution_count": null,
      "id": "EfjfGqewLz4r",
      "metadata": {
        "id": "EfjfGqewLz4r"
      },
      "outputs": [
        {
          "data": {
            "text/markdown": "<font size='+1' color='brown'>🙋‍♂️<blockquote>How about the third?</blockquote></font><font size='+1' color='teal'>🤖\n\n> The third car in the listing is the **Honda Civic, 2014, 125,000 miles, top trim, good condition, \\$13,500**. \n> <end_of_turn>\n\n</font>",
            "text/plain": [
              "<IPython.core.display.Markdown object>"
            ]
          },
          "execution_count": 30,
          "metadata": {},
          "output_type": "execute_result"
        }
      ],
      "source": [
        "message = \"How about the third?\"\n",
        "display_chat(message, chat.send_message(message))"
      ]
    },
    {
      "cell_type": "code",
      "execution_count": null,
      "id": "-u4bK30mL-Hr",
      "metadata": {
        "id": "-u4bK30mL-Hr"
      },
      "outputs": [
        {
          "data": {
            "text/markdown": "<font size='+1' color='brown'>🙋‍♂️<blockquote>What is the most affordable car you have on offer today?</blockquote></font><font size='+1' color='teal'>🤖\n\n> The most affordable car on offer today is the **Honda Civic, 2014, 125,000 miles, top trim, good condition, \\$13,500**. \n> <end_of_turn>\n\n</font>",
            "text/plain": [
              "<IPython.core.display.Markdown object>"
            ]
          },
          "execution_count": 31,
          "metadata": {},
          "output_type": "execute_result"
        }
      ],
      "source": [
        "message = \"What is the most affordable car you have on offer today?\"\n",
        "display_chat(message, chat.send_message(message))"
      ]
    },
    {
      "cell_type": "code",
      "execution_count": null,
      "id": "o1iFlX-5L_da",
      "metadata": {
        "id": "o1iFlX-5L_da"
      },
      "outputs": [
        {
          "data": {
            "text/markdown": "<font size='+1' color='brown'>🙋‍♂️<blockquote>What is the priciest car you have on offer today?</blockquote></font><font size='+1' color='teal'>🤖\n\n> The priciest car on offer today is the **Lexus RX, 2022, 13,000 miles, like new, \\$63,000**. \n> <end_of_turn>\n\n</font>",
            "text/plain": [
              "<IPython.core.display.Markdown object>"
            ]
          },
          "execution_count": 32,
          "metadata": {},
          "output_type": "execute_result"
        }
      ],
      "source": [
        "message = \"What is the priciest car you have on offer today?\"\n",
        "display_chat(message, chat.send_message(message))"
      ]
    },
    {
      "cell_type": "code",
      "execution_count": null,
      "id": "ywpmrvar1HhX",
      "metadata": {
        "id": "ywpmrvar1HhX"
      },
      "outputs": [
        {
          "data": {
            "text/markdown": "<font size='+1' color='brown'>🙋‍♂️<blockquote>Which one of the three would you recommend for a family of 4 doing lots of school commutes and the occasional trip to the mountains?</blockquote></font><font size='+1' color='teal'>🤖\n\n> For a family of 4 doing lots of school commutes and occasional trips to the mountains, I'd recommend the **Honda CR-V**. Here's why:\n> \n> * **Space:** It offers ample space for 4 adults and their gear, especially with the versatility of its rear seats.\n> * **Reliability:**  Honda CR-Vs are known for their reliability and durability, making them a good choice for long commutes and occasional rougher roads.\n> * **Fuel Efficiency:**  The CR-V offers good fuel economy, which is important for school commutes and mountain trips.\n> * **4WD Option:** The 4WD option provides extra confidence and capability for those occasional snowy or muddy mountain roads.\n> \n> While the Civic is a good option for a smaller family or someone looking for a more fuel-efficient car, the CR-V's extra space and 4WD capability make it a more practical choice for a family with school commutes and occasional mountain trips. \n> <end_of_turn>\n\n</font>",
            "text/plain": [
              "<IPython.core.display.Markdown object>"
            ]
          },
          "execution_count": 33,
          "metadata": {},
          "output_type": "execute_result"
        }
      ],
      "source": [
        "message = \"Which one of the three would you recommend for a family of 4 doing lots of school commutes and the occasional trip to the mountains?\"\n",
        "display_chat(message, chat.send_message(message))"
      ]
    },
    {
      "cell_type": "code",
      "execution_count": null,
      "id": "d_4w5doO1ZEa",
      "metadata": {
        "id": "d_4w5doO1ZEa"
      },
      "outputs": [
        {
          "data": {
            "text/markdown": "<font size='+1' color='brown'>🙋‍♂️<blockquote>Why so? Could you elaborate?</blockquote></font><font size='+1' color='teal'>🤖\n\n> You're right to ask for elaboration! Here's a breakdown of why the CR-V is a better fit for a family of 4 with school commutes and occasional mountain trips:\n> \n> **1. Space and Comfort:**\n> \n> * **Legroom and Headroom:** The CR-V offers more legroom and headroom in the back seats compared to the Civic. This is crucial for families with kids who need space to stretch out.\n> * **Cargo Space:**  The CR-V has a larger cargo area, especially with the rear seats folded down. This is essential for transporting school bags, sports equipment, groceries, and other family items.\n> \n> **2. Practicality for School Commutes:**\n> \n> * **Fuel Efficiency:** The CR-V's fuel economy is better than the Civic, which translates to lower fuel costs for daily commutes.\n> * **Reliability:**  The CR-V's reputation for reliability means fewer breakdowns and less stress on busy school days.\n> * **Comfort:**  The CR-V's interior is generally more comfortable for long commutes, with features like heated seats and a more spacious cabin.\n> \n> **3. Mountain Trips:**\n> \n> * **4WD Capability:** The CR-V's 4WD option provides extra traction and stability on snowy or muddy mountain roads, making it safer and more enjoyable for those trips.\n> * **Ground Clearance:** The CR-V has a decent ground clearance, which is helpful for navigating rougher terrain.\n> \n> **In contrast, the Civic:**\n> \n> * **Limited Space:**  The Civic's smaller size means less legroom and headroom in the back seats, making it less comfortable for longer trips.\n> * **Less Cargo Space:**  The Civic's cargo area is smaller, making it less practical for transporting bulky items.\n> * **Less Off-Road Capability:**  The Civic doesn't have a 4WD option, which can be a disadvantage for mountain trips.\n> \n> \n> **In summary:** The Honda CR-V offers a better balance of space, comfort, practicality, and off-road capability for a family with school commutes and occasional mountain trips. \n> <end_of_turn>\n\n</font>",
            "text/plain": [
              "<IPython.core.display.Markdown object>"
            ]
          },
          "execution_count": 34,
          "metadata": {},
          "output_type": "execute_result"
        }
      ],
      "source": [
        "message = \"Why so? Could you elaborate?\"\n",
        "display_chat(message, chat.send_message(message))"
      ]
    },
    {
      "cell_type": "markdown",
      "id": "Fch_72eDQdkl",
      "metadata": {
        "id": "Fch_72eDQdkl"
      },
      "source": [
        "# Controlled inference: ++ formal"
      ]
    },
    {
      "cell_type": "code",
      "execution_count": null,
      "id": "fHdvjoZmQ89D",
      "metadata": {
        "id": "fHdvjoZmQ89D"
      },
      "outputs": [],
      "source": [
        "FORMAL_VOICE_STRENGTH = 1.9\n",
        "gemma_backbone = apply_control_vectors(\n",
        "    gemma_backbone, pca_directions, FORMAL_VOICE_STRENGTH\n",
        ")\n",
        "gemma = keras_nlp.models.GemmaCausalLM(\n",
        "    backbone=gemma_backbone, preprocessor=gemma_preprocessor\n",
        ")"
      ]
    },
    {
      "cell_type": "code",
      "execution_count": null,
      "id": "YwUXfNy_KbQS",
      "metadata": {
        "id": "YwUXfNy_KbQS"
      },
      "outputs": [],
      "source": [
        "car_listings = (\n",
        "    \"You are a helpful assistant for a Baxter's Used Cars, a car dealership. Here are the cars currently on offer:\\n\\n\"\n",
        "    \"#1 Lexus RX, 2022, 13,000 miles, like new, $63,000 \\n\"\n",
        "    \"#2 Honda CR-V, 2018, 99,000 miles, leather seats, 4WD, $53,000 \\n\"\n",
        "    \"#3 Honda Civic, 2014, 125,000 miles, top trim, good condition, $13,500 \\n\"\n",
        ")"
      ]
    },
    {
      "cell_type": "code",
      "execution_count": null,
      "id": "e9a8I47vQolz",
      "metadata": {
        "id": "e9a8I47vQolz"
      },
      "outputs": [
        {
          "data": {
            "text/markdown": "<font size='+1' color='brown'>🙋‍♂️<blockquote>What is the first car in the listing?</blockquote></font><font size='+1' color='teal'>🤖\n\n> The first car in the listing is a **Lexus RX, 2022, 13,000 miles, like new, \\$63,000**. \n> <end_of_turn>\n\n</font>",
            "text/plain": [
              "<IPython.core.display.Markdown object>"
            ]
          },
          "execution_count": 37,
          "metadata": {},
          "output_type": "execute_result"
        }
      ],
      "source": [
        "chat = ChatState(gemma, system=car_listings)\n",
        "message = \"What is the first car in the listing?\"\n",
        "display_chat(message, chat.send_message(message))"
      ]
    },
    {
      "cell_type": "code",
      "execution_count": null,
      "id": "SIoqKt9aQ-_D",
      "metadata": {
        "id": "SIoqKt9aQ-_D"
      },
      "outputs": [
        {
          "data": {
            "text/markdown": "<font size='+1' color='brown'>🙋‍♂️<blockquote>And the second?</blockquote></font><font size='+1' color='teal'>🤖\n\n> The second car in the listing is a **Honda CR-V, 2018, 99,000 miles, leather seats, 4WD, \\$53,000**. \n> <end_of_turn>\n\n</font>",
            "text/plain": [
              "<IPython.core.display.Markdown object>"
            ]
          },
          "execution_count": 38,
          "metadata": {},
          "output_type": "execute_result"
        }
      ],
      "source": [
        "message = \"And the second?\"\n",
        "display_chat(message, chat.send_message(message))"
      ]
    },
    {
      "cell_type": "code",
      "execution_count": null,
      "id": "rOK3VoP8RBbL",
      "metadata": {
        "id": "rOK3VoP8RBbL"
      },
      "outputs": [
        {
          "data": {
            "text/markdown": "<font size='+1' color='brown'>🙋‍♂️<blockquote>How about the third?</blockquote></font><font size='+1' color='teal'>🤖\n\n> The third car in the listing is a **Honda Civic, 2014, 125,000 miles, top trim, good condition, \\$13,500**. \n> <end_of_turn>\n\n</font>",
            "text/plain": [
              "<IPython.core.display.Markdown object>"
            ]
          },
          "execution_count": 39,
          "metadata": {},
          "output_type": "execute_result"
        }
      ],
      "source": [
        "message = \"How about the third?\"\n",
        "display_chat(message, chat.send_message(message))"
      ]
    },
    {
      "cell_type": "code",
      "execution_count": null,
      "id": "P1xea60jRk-P",
      "metadata": {
        "id": "P1xea60jRk-P"
      },
      "outputs": [
        {
          "data": {
            "text/markdown": "<font size='+1' color='brown'>🙋‍♂️<blockquote>What is the most affordable car you have on offer today?</blockquote></font><font size='+1' color='teal'>🤖\n\n> The most affordable car on offer today is the **Honda Civic, 2014, 125,000 miles, top trim, good condition, \\$13,500**. \n> <end_of_turn>\n\n</font>",
            "text/plain": [
              "<IPython.core.display.Markdown object>"
            ]
          },
          "execution_count": 40,
          "metadata": {},
          "output_type": "execute_result"
        }
      ],
      "source": [
        "message = \"What is the most affordable car you have on offer today?\"\n",
        "display_chat(message, chat.send_message(message))"
      ]
    },
    {
      "cell_type": "code",
      "execution_count": null,
      "id": "7pWLb9jkRlxr",
      "metadata": {
        "id": "7pWLb9jkRlxr"
      },
      "outputs": [
        {
          "data": {
            "text/markdown": "<font size='+1' color='brown'>🙋‍♂️<blockquote>What is the priciest car you have on offer today?</blockquote></font><font size='+1' color='teal'>🤖\n\n> The priciest car on offer today is the **Lexus RX, 2022, 13,000 miles, like new, \\$63,000**. \n> <end_of_turn>\n\n</font>",
            "text/plain": [
              "<IPython.core.display.Markdown object>"
            ]
          },
          "execution_count": 41,
          "metadata": {},
          "output_type": "execute_result"
        }
      ],
      "source": [
        "message = \"What is the priciest car you have on offer today?\"\n",
        "display_chat(message, chat.send_message(message))"
      ]
    },
    {
      "cell_type": "code",
      "execution_count": null,
      "id": "4acURe0dRDyS",
      "metadata": {
        "id": "4acURe0dRDyS"
      },
      "outputs": [
        {
          "data": {
            "text/markdown": "<font size='+1' color='brown'>🙋‍♂️<blockquote>Which one of the three would you recommend for a family of 4 doing lots of school commutes and the occasional trip to the mountains?</blockquote></font><font size='+1' color='teal'>🤖\n\n> For a family of 4 doing lots of school commutes and the occasional trip to the mountains, I'd recommend the **Honda CR-V**. Here's why:\n> \n> * **Space:** It offers ample space for 4 adults and their gear, with good cargo capacity.\n> * **Reliability:**  Honda CR-Vs are known for their reliability and durability, making them a good choice for long commutes and occasional rougher roads.\n> * **Fuel Efficiency:**  The CR-V offers good fuel economy, which is important for frequent school runs and mountain trips.\n> * **4WD Option:** The 4WD option provides extra peace of mind for those occasional snowy or muddy mountain roads.\n> \n> While the Civic is a good option for a smaller family or someone looking for a fuel-efficient car, the CR-V offers more space and versatility for a family of four. \n> <end_of_turn>\n\n</font>",
            "text/plain": [
              "<IPython.core.display.Markdown object>"
            ]
          },
          "execution_count": 42,
          "metadata": {},
          "output_type": "execute_result"
        }
      ],
      "source": [
        "message = \"Which one of the three would you recommend for a family of 4 doing lots of school commutes and the occasional trip to the mountains?\"\n",
        "display_chat(message, chat.send_message(message))"
      ]
    },
    {
      "cell_type": "code",
      "execution_count": null,
      "id": "ugm3MTLARFsB",
      "metadata": {
        "id": "ugm3MTLARFsB"
      },
      "outputs": [
        {
          "data": {
            "text/markdown": "<font size='+1' color='brown'>🙋‍♂️<blockquote>Why so? Could you elaborate?</blockquote></font><font size='+1' color='teal'>🤖\n\n> You're right to ask for elaboration!  Here's a breakdown of why the CR-V is a better fit for a family of four with school commutes and occasional mountain trips:\n> \n> **1. Space and Comfort:**\n> \n> * **Passenger Room:** The CR-V offers more legroom and headroom in the back seats compared to the Civic. This is crucial for families with kids who need space to stretch out.\n> * **Cargo Space:**  The CR-V has a larger cargo area, making it easier to transport school bags, sports equipment, groceries, and other family essentials. \n> \n> **2. Versatility:**\n> \n> * **Family-Friendly Features:** The CR-V often comes with features like sliding doors, a power liftgate, and a spacious cabin that make it easier to load and unload kids and gear.\n> * **Towing Capacity:**  While the Civic is not designed for towing, the CR-V has a higher towing capacity, which could be useful for occasional hauling of boats, trailers, or other items.\n> \n> **3. Practicality for Mountain Trips:**\n> \n> * **4WD Option:** The CR-V's 4WD option provides extra traction and stability on snowy or muddy mountain roads, making it more comfortable and safe for those trips.\n> * **Ground Clearance:** The CR-V has a higher ground clearance than the Civic, which is helpful for navigating rougher terrain.\n> \n> **4. Reliability and Durability:**\n> \n> * **Honda Reputation:** Honda is known for building reliable and durable vehicles. This means you can expect fewer repairs and a longer lifespan for your CR-V.\n> \n> **In Summary:** While the Civic is a great car, the CR-V offers a more spacious, versatile, and practical package for a family with school commutes and occasional mountain trips. \n> \n> \n> Let me know if you have any other questions! \n> <end_of_turn>\n\n</font>",
            "text/plain": [
              "<IPython.core.display.Markdown object>"
            ]
          },
          "execution_count": 43,
          "metadata": {},
          "output_type": "execute_result"
        }
      ],
      "source": [
        "message = \"Why so? Could you elaborate?\"\n",
        "display_chat(message, chat.send_message(message))"
      ]
    }
  ],
  "metadata": {
    "accelerator": "GPU",
    "colab": {
      "name": "Gemma_control_vectors.ipynb",
      "toc_visible": true
    },
    "kernelspec": {
      "display_name": "Python 3",
      "name": "python3"
    }
  },
  "nbformat": 4,
  "nbformat_minor": 0
}
